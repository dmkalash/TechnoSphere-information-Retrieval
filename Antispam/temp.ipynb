{
 "cells": [
  {
   "cell_type": "markdown",
   "metadata": {},
   "source": [
    "# ** Описание **"
   ]
  },
  {
   "cell_type": "markdown",
   "metadata": {},
   "source": [
    "Построить графики распределения в спам и не спам множествах следующих признаков:\n",
    "\n",
    "1\tКоличество слов на странице\n",
    "2\tСредняя длинна слова\n",
    "3\tКоличество слов в заголовке страниц (слова в теге <html><head><title> Some text </title>)\n",
    "4\tКоличество слов в анкорах ссылок (<html><body><a> Some text </a>)\n",
    "5\tКоэффициент сжатия\n",
    "\n",
    "Нужно посчитать статистику минимум по трем признакам и обязательно сделать для 1-го и 2-го признаков\n",
    "\n",
    "И отправить первое решение в соревнование https://www.kaggle.com/c/antispam-information-retrieval/\n",
    "На основании одного из указанных выше признаков попытаться разделить мн-во, так чтобы score в соревновании был больше 0.55\n",
    "\n",
    "При выполнении всех этих условия в течении семинара +1 балл к ДЗ\n",
    "\n",
    "Описание ДЗ и правил выставления за него баллов в https://www.kaggle.com/c/antispam-information-retrieval/  \n",
    "Сроки ДЗ уточнить у преподователя - обычно 2 недели"
   ]
  },
  {
   "cell_type": "code",
   "execution_count": 33,
   "metadata": {},
   "outputs": [],
   "source": [
    "from __future__ import division\n",
    "\n",
    "import base64\n",
    "import csv\n",
    "import gzip\n",
    "import zlib\n",
    "\n",
    "from collections import namedtuple\n",
    "\n",
    "%matplotlib inline\n",
    "import matplotlib.pyplot as plt"
   ]
  },
  {
   "cell_type": "code",
   "execution_count": 34,
   "metadata": {},
   "outputs": [],
   "source": [
    "TRACE_NUM = 1000\n",
    "import logging\n",
    "import importlib\n",
    "importlib.reload(logging)\n",
    "logging.basicConfig(format='%(asctime)s %(levelname)s:%(message)s', level=logging.INFO, datefmt='%H:%M:%S')\n",
    "\n",
    "def trace(items_num, trace_num=TRACE_NUM):\n",
    "    if items_num % trace_num == 0: logging.info(\"Complete items %05d\" % items_num)\n",
    "        \n",
    "def trace_worker(items_num, worker_id, trace_num=TRACE_NUM):\n",
    "    if items_num % trace_num == 0: logging.info(\"Complete items %05d in worker_id %d\" % (items_num, worker_id))"
   ]
  },
  {
   "cell_type": "markdown",
   "metadata": {},
   "source": [
    "### Утилиты"
   ]
  },
  {
   "cell_type": "markdown",
   "metadata": {},
   "source": [
    "#### Декораторы"
   ]
  },
  {
   "cell_type": "code",
   "execution_count": 35,
   "metadata": {},
   "outputs": [],
   "source": [
    "# def to_utf8(text):\n",
    "#     if isinstance(text, unicode): text = text.encode('utf8')\n",
    "#     return text\n",
    "\n",
    "# def convert2unicode(f):\n",
    "#     def tmp(text):\n",
    "#         if not isinstance(text, unicode): text = text.decode('utf8')\n",
    "#         return f(text)\n",
    "#     return tmp\n",
    "\n",
    "# def convert2lower(f):\n",
    "#     def tmp(text):        \n",
    "#         return f(text.lower())\n",
    "#     return tmp\n",
    "\n",
    "# #P.S. Декораторы могут усложнять отладку, так что от них вполне можно отказаться и воспользоваться copy-paste"
   ]
  },
  {
   "cell_type": "markdown",
   "metadata": {},
   "source": [
    "### Извлечение текста из html"
   ]
  },
  {
   "cell_type": "markdown",
   "metadata": {},
   "source": [
    "#### Извлечение текста при помощи встроенных модулей"
   ]
  },
  {
   "cell_type": "code",
   "execution_count": 36,
   "metadata": {},
   "outputs": [],
   "source": [
    "from html.parser import HTMLParser\n",
    "import re\n",
    "\n",
    "###Извлечение текста из title можно вписать сюда\n",
    "\n",
    "class TextHTMLParser(HTMLParser):\n",
    "    def __init__(self):\n",
    "        HTMLParser.__init__(self)\n",
    "        self._text = []\n",
    "        self._title = \"\"\n",
    "        self._in_title = False\n",
    "\n",
    "    def handle_data(self, data):\n",
    "        text = data.strip()\n",
    "        if len(text) > 0:\n",
    "            text = re.sub('[ \\t\\r\\n]+', ' ', text)\n",
    "            self._text.append(text + ' ')\n",
    "\n",
    "    def handle_starttag(self, tag, attrs):\n",
    "        if tag == 'p':\n",
    "            self._text.append('\\n\\n')\n",
    "        elif tag == 'br':\n",
    "            self._text.append('\\n')\n",
    "        elif tag == 'title':\n",
    "            self._in_title = True\n",
    "\n",
    "    def handle_startendtag(self, tag, attrs):\n",
    "        if tag == 'br':\n",
    "            self._text.append('\\n\\n')\n",
    "\n",
    "    def text(self):\n",
    "        return ''.join(self._text).strip()\n",
    "\n",
    "def html2text_parser(text):\n",
    "    parser = TextHTMLParser()\n",
    "    parser.feed(text)\n",
    "    return parser.text()"
   ]
  },
  {
   "cell_type": "markdown",
   "metadata": {},
   "source": [
    "#### Извлечение текста при помощи дополнительных библиотек"
   ]
  },
  {
   "cell_type": "code",
   "execution_count": 37,
   "metadata": {},
   "outputs": [],
   "source": [
    "def html2text_bs(raw_html):\n",
    "    from bs4 import BeautifulSoup\n",
    "    \"\"\"\n",
    "    Тут производится извлечения из html текста\n",
    "    \"\"\"\n",
    "    soup = BeautifulSoup(raw_html, \"html.parser\")\n",
    "    [s.extract() for s in soup(['script', 'style'])]\n",
    "    return soup.get_text()\n",
    "\n",
    "def html2text_bs_visible(raw_html):\n",
    "    from bs4 import BeautifulSoup\n",
    "    \"\"\"\n",
    "    Тут производится извлечения из html текста, который видим пользователю\n",
    "    \"\"\"\n",
    "    soup = BeautifulSoup(raw_html, \"html.parser\")    \n",
    "    [s.extract() for s in soup(['style', 'script', '[document]', 'head', 'title'])]\n",
    "    return soup.get_text()\n",
    "\n",
    "\n",
    "def html2text_bs_title(raw_html):\n",
    "    from bs4 import BeautifulSoup\n",
    "    \"\"\"\n",
    "    Тут производится извлечения из html - title\n",
    "    \"\"\"\n",
    "    soup = BeautifulSoup(raw_html, \"html.parser\")    \n",
    "    [s.extract() for s in soup(['title'])]\n",
    "    return soup.get_text()\n",
    "\n",
    "\n",
    "def html2text_bs_anchors(html_data):\n",
    "    from bs4 import BeautifulSoup\n",
    "    \"\"\"\n",
    "    Тут производится извлечения из html - title\n",
    "    \"\"\"\n",
    "    soup = BeautifulSoup(raw_html, \"html.parser\")    \n",
    "    [s.extract() for s in soup(['a'])]\n",
    "    return soup.get_text()\n",
    "\n",
    "\n",
    "def html2text_boilerpipe(raw_html):\n",
    "    import boilerpipe\n",
    "    \"\"\"\n",
    "    еще одна библиотека очень хорошо извлекающая именно видимый пользователю текст,\n",
    "    но она завязана на java\n",
    "    \"\"\"\n",
    "    pass"
   ]
  },
  {
   "cell_type": "markdown",
   "metadata": {},
   "source": [
    "#### Выбираем какой метод для конвертации html в текст будет основным"
   ]
  },
  {
   "cell_type": "code",
   "execution_count": 38,
   "metadata": {},
   "outputs": [],
   "source": [
    "#html2text = html2text_bs\n",
    "html2text = html2text_parser"
   ]
  },
  {
   "cell_type": "markdown",
   "metadata": {},
   "source": [
    "#### Методы для токенизации текста"
   ]
  },
  {
   "cell_type": "code",
   "execution_count": 39,
   "metadata": {},
   "outputs": [],
   "source": [
    "def easy_tokenizer(text):\n",
    "    \n",
    "    word = str()\n",
    "    for symbol in text:\n",
    "        if symbol.isalnum(): word += symbol\n",
    "        elif word:\n",
    "            yield word\n",
    "            word = str()\n",
    "    if word: yield word\n",
    "\n",
    "\n",
    "def my_tokenizer(text):\n",
    "    return re.findall(r'\\w+', text)\n",
    "        \n",
    "        \n",
    "PYMORPHY_CACHE = {}\n",
    "MORPH = None\n",
    "#hint, чтобы установка pymorphy2 не была бы обязательной\n",
    "\n",
    "def get_lemmatizer():\n",
    "    import pymorphy2\n",
    "    global MORPH\n",
    "    if MORPH is None: MORPH = pymorphy2.MorphAnalyzer()\n",
    "    return MORPH\n",
    "\n",
    "def pymorphy_tokenizer(text):\n",
    "    global PYMORPHY_CACHE\n",
    "    for word in easy_tokenizer(text):\n",
    "        word_hash = hash(word)\n",
    "        if word_hash not in PYMORPHY_CACHE:\n",
    "            PYMORPHY_CACHE[word_hash] = get_lemmatizer().parse(word)[0].normal_form            \n",
    "        yield PYMORPHY_CACHE[word_hash]"
   ]
  },
  {
   "cell_type": "markdown",
   "metadata": {},
   "source": [
    "#### Основная функция, которая вызывается для преобразования html в список слов"
   ]
  },
  {
   "cell_type": "code",
   "execution_count": 40,
   "metadata": {},
   "outputs": [],
   "source": [
    "def html2word(raw_html, to_text=html2text, tokenizer=easy_tokenizer):\n",
    "    return tokenizer(to_text(raw_html).lower())"
   ]
  },
  {
   "cell_type": "code",
   "execution_count": 41,
   "metadata": {},
   "outputs": [
    {
     "data": {
      "text/plain": [
       "['khuiuhkjnaksjd', 'alsjkdfn', 'uun', 'uuu', 'lya']"
      ]
     },
     "execution_count": 41,
     "metadata": {},
     "output_type": "execute_result"
    }
   ],
   "source": [
    "list(html2word('<p><br>KhuIUhkjnaksjd   alsjkdfn Uun </br>  uuu lya</p>'))"
   ]
  },
  {
   "cell_type": "markdown",
   "metadata": {},
   "source": [
    "#### Рассчет финальных метрик"
   ]
  },
  {
   "cell_type": "code",
   "execution_count": null,
   "metadata": {},
   "outputs": [],
   "source": []
  },
  {
   "cell_type": "code",
   "execution_count": 42,
   "metadata": {},
   "outputs": [],
   "source": [
    "def safe_divide(a, b):\n",
    "    if a == 0: return 0.0\n",
    "    elif b == 0: return 0.0\n",
    "    else: return a/b\n",
    "\n",
    "def calculate_metrics(predictions, threshold):    \n",
    "    \"\"\"\n",
    "    Функция подсчета метрик\n",
    "    Параметры\n",
    "    predictions - ранки по документам\n",
    "    threshold  - порог для метрик\n",
    "    \"\"\"\n",
    "    true_positive = 0\n",
    "    false_positive = 0\n",
    "    true_negative = 0\n",
    "    false_negative = 0\n",
    "    for (url_id, mark, url, prediction) in predictions:        \n",
    "        mark_predict = prediction > threshold\n",
    "\n",
    "        if mark_predict:                     \n",
    "            if mark_predict == mark: true_positive += 1\n",
    "            else: false_positive += 1                    \n",
    "        else:                     \n",
    "            if  mark_predict == mark: true_negative += 1\n",
    "            else: false_negative += 1\n",
    "\n",
    "    class_prec  = safe_divide(true_positive, true_positive + false_positive)\n",
    "    class_recall = safe_divide(true_positive, true_positive + false_negative)\n",
    "        \n",
    "    class_F1 = safe_divide(2 * class_prec * class_recall, class_prec + class_recall)\n",
    "    \n",
    "    \n",
    "    not_class_prec = safe_divide(true_negative, true_negative + false_negative)\n",
    "    not_class_recall = safe_divide(true_negative, true_negative + false_positive)\n",
    "    \n",
    "    not_class_F1 = safe_divide(2 * not_class_prec * not_class_recall, not_class_prec + not_class_recall)\n",
    "    \n",
    "    return ( (class_prec, class_recall, class_F1), (not_class_prec, not_class_recall, not_class_F1) )\n",
    "\n",
    "def arange(start, stop, step):\n",
    "    cur_value = start\n",
    "    while True:\n",
    "        if cur_value > stop: break\n",
    "        yield cur_value\n",
    "        cur_value += step\n",
    "\n",
    "def plot_results(docs, min_threshold=-1, max_threshold=1, step=0.1, trace=False):\n",
    "    x = []\n",
    "    y_p = []\n",
    "    y_n = []\n",
    "    docs_predictions = classifier.predict_all(docs)\n",
    "    for threshold in arange(min_threshold, max_threshold, step):\n",
    "        r = calculate_metrics(docs_predictions, threshold)\n",
    "        x.append(threshold)\n",
    "        y_p.append(r[0])\n",
    "        y_n.append(r[1])        \n",
    "        if trace: \n",
    "            print('threshold %s' % threshold)\n",
    "            print('\\tclass_prec %s, class_recall %s, class_F1 %s' % r[0])\n",
    "            print('\\tnot_class_prec %s, not_class_recall %s, not_class_F1 %s' % r[1])\n",
    "            print('\\t\\tMacroF1Mesure %s' % ((r[0][2] + r[1][2])/2))\n",
    "    plot_stats(x, y_p, \"Class Result\")\n",
    "    plot_stats(x, y_n, \"Not class Result\")    \n",
    "\n",
    "\n",
    "def plot_stats(x, y, title):\n",
    "    plt.figure(figsize=(10, 5))\n",
    "\n",
    "    prec, = plt.plot( x, \n",
    "                     [k[0] for k in y], \"r\", label='Precision', \n",
    "                     linewidth=1)\n",
    "    accur, = plt.plot( x, \n",
    "                      [k[1] for k in y], \"b\", label='Recall',\n",
    "                      linewidth=1)\n",
    "    f1, =    plt.plot( x, \n",
    "                      [k[2] for k in y], \"g\", label='F1',\n",
    "                      linewidth=1)\n",
    "    plt.grid(True)\n",
    "    plt.legend(handles=[prec, accur, f1])\n",
    "    plt.title(title)\n",
    "    plt.show()"
   ]
  },
  {
   "cell_type": "markdown",
   "metadata": {},
   "source": [
    "## TODO:\n",
    "- добавить фичи из необходимого списка\n",
    "- добавить фичи из презы\n",
    "- написать SVM-классификатор\n",
    "- добавить tfidf векторизацию -> nmf ->\n",
    "    - добавить фичу OneClass SVM \n",
    "    - добавить фичу LOF\n",
    "\n",
    "- использовать другой токенизатор\n",
    "- написать Random Forest\n",
    "- написать Boosting \n",
    "- написать наивного байесовского классификатора\n",
    "- написать голосование\n",
    "\n",
    "-  количество скриптов?"
   ]
  },
  {
   "cell_type": "code",
   "execution_count": 43,
   "metadata": {},
   "outputs": [],
   "source": [
    "from random import randrange\n",
    "import os"
   ]
  },
  {
   "cell_type": "code",
   "execution_count": 44,
   "metadata": {},
   "outputs": [],
   "source": [
    "def get_avg_word_len(words):\n",
    "    lens = list(map(len, words))\n",
    "    return sum(lens) / len(lens)\n",
    "\n",
    "def get_compression_level(html_data):\n",
    "    num = str(randrange(1009))\n",
    "    filename = ''.join('./tmp', num, '.gz')\n",
    "    with gzip.open(filename, 'wb') as f:\n",
    "        f.write(html_data)\n",
    "    # os.stat(filename).st_size # TODO: не совсем честно, лучше прочитать и посчитать \n",
    "    with open(filename, 'rb') as f:\n",
    "        return len(html_data) / len(f.read())\n",
    "    \n",
    "    print('get_compression_level: some problems')"
   ]
  },
  {
   "cell_type": "code",
   "execution_count": 18,
   "metadata": {},
   "outputs": [],
   "source": [
    "def calc_features(url, html_data):\n",
    "    words = list(html2word(html_data))\n",
    "    title_words = list( html2word(html_data, to_text=html2text_bs_title) )\n",
    "    anchors_words = list( html2word(html_data, to_text=html2text_bs_anchors) )\n",
    "    \n",
    "    words_num = len(words)\n",
    "    avg_word_len = get_avg_word_len(words)\n",
    "    title_words_num = len(title_words)\n",
    "    anchor_words_num = len(anchors_words)\n",
    "    compression_level = get_compression_level(html_data)\n",
    "    \n",
    "    return [len(words), avg_word_len, title_words_num, anchor_words_num, compression_level]"
   ]
  },
  {
   "cell_type": "code",
   "execution_count": 19,
   "metadata": {},
   "outputs": [
    {
     "name": "stdout",
     "output_type": "stream",
     "text": [
      "[6, 0, 0, 0, 0]\n"
     ]
    }
   ],
   "source": [
    "test_html_data = u'''\n",
    "<html>\n",
    "<title> Заголовок Ololo </title>\n",
    "спам 1 2 3\n",
    "</html>\n",
    "'''\n",
    "test_url = 'http://ololo'\n",
    "test_features = calc_features(test_url, test_html_data)\n",
    "print(test_features)"
   ]
  },
  {
   "cell_type": "code",
   "execution_count": null,
   "metadata": {},
   "outputs": [],
   "source": [
    "from tqdm.notebook import tqdm"
   ]
  },
  {
   "cell_type": "code",
   "execution_count": 21,
   "metadata": {},
   "outputs": [],
   "source": [
    "from multiprocessing import Process, Queue, Lock\n",
    "\n",
    "DocItem = namedtuple('DocItem', ['doc_id', 'is_spam', 'url', 'features'])\n",
    "\n",
    "WORKER_NUM = 4\n",
    "\n",
    "def load_csv(input_file_name, calc_features_f):    \n",
    "    \"\"\"\n",
    "    Загружаем данные и извлекаем на лету признаки\n",
    "    Сам контент не сохраняется, чтобы уменьшить потребление памяти - чтобы\n",
    "    можно было запускать даже на ноутбуках в классе\n",
    "    \"\"\"\n",
    "    global LAST_HTML\n",
    "    with gzip.open(input_file_name, mode='rt', encoding='utf8') if input_file_name.endswith('gz') else open(input_file_name, mode='rt', encoding='utf8')  as input_file:            \n",
    "        headers = input_file.readline()\n",
    "        \n",
    "        for i, line in enumerate(input_file):\n",
    "            trace(i)\n",
    "            parts = line.strip().split('\\t')\n",
    "            url_id = int(parts[0])                                        \n",
    "            mark = bool(int(parts[1]))                    \n",
    "            url = parts[2]\n",
    "            pageInb64 = parts[3]\n",
    "            html_data = base64.b64decode(pageInb64)\n",
    "            try:\n",
    "                html_data = html_data.decode('utf8')\n",
    "            except:\n",
    "                html_data = html_data.decode('latin1')\n",
    "            features = calc_features_f(url, html_data)            \n",
    "            yield DocItem(url_id, mark, url, features)            \n",
    "                \n",
    "        trace(i, 1)  \n",
    "        \n",
    "def load_csv_worker(input_file_name, calc_features_f, worker_id, res_queue):    \n",
    "    with gzip.open(input_file_name,  mode='rt', encoding='utf8') if input_file_name.endswith('gz') else open(input_file_name, mode='rt', encoding='utf8')  as input_file:            \n",
    "        headers = input_file.readline()\n",
    "        \n",
    "        for i, line in tqdm(enumerate(input_file)):\n",
    "            trace_worker(i, worker_id)\n",
    "            if i % WORKER_NUM != worker_id: continue\n",
    "            parts = line.strip().split('\\t')\n",
    "            url_id = int(parts[0])                                        \n",
    "            mark = bool(int(parts[1]))                    \n",
    "            url = parts[2]\n",
    "            pageInb64 = parts[3]\n",
    "            html_data = base64.b64decode(pageInb64)\n",
    "            try:\n",
    "                html_data = html_data.decode('utf8')\n",
    "            except:\n",
    "                html_data = html_data.decode('latin1')\n",
    "            features = calc_features_f(url, html_data)            \n",
    "            res_queue.put(DocItem(url_id, mark, url, features))\n",
    "                \n",
    "        trace_worker(i, worker_id, 1)  \n",
    "    res_queue.put(None)\n",
    "\n",
    "\n",
    "def load_csv_multiprocess(input_file_name, calc_features_f):\n",
    "    processes = []\n",
    "    res_queue = Queue()\n",
    "    \n",
    "    for i in range(WORKER_NUM):\n",
    "        process = Process(target=load_csv_worker, args=(input_file_name, calc_features_f, i, res_queue))\n",
    "        processes.append(process)\n",
    "        process.start()\n",
    "    \n",
    "    complete_workers = 0\n",
    "    while complete_workers != WORKER_NUM:\n",
    "        item = res_queue.get()\n",
    "        if item is None:\n",
    "            complete_workers += 1\n",
    "        else:\n",
    "            yield item\n",
    "        \n",
    "    for process in processes: process.join()"
   ]
  },
  {
   "cell_type": "markdown",
   "metadata": {},
   "source": [
    "** Обрабатываем входной файл **\n",
    "<br>\n",
    "Формат - поля разделенные табуляциями\n",
    "<br>\n",
    "0 - идентификатор документа\n",
    "<br>\n",
    "1 - метка класса 0 - не спам, 1 - спам\n",
    "<br>\n",
    "2 - урл документа\n",
    "<br>\n",
    "3 - документ в кодировке base64\n",
    "\n",
    "Выходной формат - массив кортежей вида\n",
    "(doc_id, is_spam, url, html_data)"
   ]
  },
  {
   "cell_type": "markdown",
   "metadata": {},
   "source": [
    "## Сбор данных"
   ]
  },
  {
   "cell_type": "code",
   "execution_count": null,
   "metadata": {
    "scrolled": false
   },
   "outputs": [],
   "source": [
    "%%time\n",
    "\n",
    "TRAIN_DATA_FILE  = 'kaggle_train_data_tab.csv'\n",
    "# TRAIN_DATA_FILE  = 'kaggle_train_data_tab.csv.gz'\n",
    "\n",
    "train_docs = list(load_csv_multiprocess(TRAIN_DATA_FILE, calc_features))\n",
    "# train_docs = list(load_csv(TRAIN_DATA_FILE, calc_features))\n",
    "# ololo = load_csv(TRAIN_DATA_FILE, calc_features)"
   ]
  },
  {
   "cell_type": "code",
   "execution_count": null,
   "metadata": {},
   "outputs": [],
   "source": [
    "len(train_docs)"
   ]
  },
  {
   "cell_type": "code",
   "execution_count": 15,
   "metadata": {},
   "outputs": [
    {
     "data": {
      "image/png": "[encoded data removed]",
      "text/plain": [
       "<Figure size 432x288 with 1 Axes>"
      ]
     },
     "metadata": {
      "needs_background": "light"
     },
     "output_type": "display_data"
    }
   ],
   "source": [
    "is_spam_data = [doc.features[0] for doc in train_docs if doc[1] == True]\n",
    "not_spam_data = [doc.features[0] for doc in train_docs if doc[1] == False]\n",
    "bins = range(0,3000,10)\n",
    "plt.hist(is_spam_data, bins=bins, color='red', density=True, alpha=0.7, label='spam')\n",
    "plt.hist(not_spam_data, bins=bins, color='blue', density=True, alpha=0.7, label='not_spam')\n",
    "plt.title('NumWords')\n",
    "plt.legend()\n",
    "plt.show()"
   ]
  },
  {
   "cell_type": "code",
   "execution_count": 16,
   "metadata": {},
   "outputs": [
    {
     "data": {
      "image/png": "[encoded data removed]",
      "text/plain": [
       "<Figure size 432x288 with 1 Axes>"
      ]
     },
     "metadata": {
      "needs_background": "light"
     },
     "output_type": "display_data"
    }
   ],
   "source": [
    "is_spam_data = [doc.features[1] for doc in train_docs if doc[1] == True]\n",
    "not_spam_data = [doc.features[1] for doc in train_docs if doc[1] == False]\n",
    "bins = 100\n",
    "plt.hist(is_spam_data, bins=bins, color='red', density=True, alpha=0.7, label='spam')\n",
    "plt.hist(not_spam_data, bins=bins, color='blue', density=True, alpha=0.7, label='not_spam')\n",
    "plt.title('AvgWordLen')\n",
    "plt.legend()\n",
    "plt.show()"
   ]
  },
  {
   "cell_type": "code",
   "execution_count": 17,
   "metadata": {},
   "outputs": [
    {
     "data": {
      "image/png": "[encoded data removed]",
      "text/plain": [
       "<Figure size 432x288 with 1 Axes>"
      ]
     },
     "metadata": {
      "needs_background": "light"
     },
     "output_type": "display_data"
    }
   ],
   "source": [
    "is_spam_data = [doc.features[2] for doc in train_docs if doc[1] == True]\n",
    "not_spam_data = [doc.features[2] for doc in train_docs if doc[1] == False]\n",
    "bins = range(0, 30, 1)\n",
    "plt.hist(is_spam_data, bins=bins, color='red', density=True, alpha=0.7, label='spam')\n",
    "plt.hist(not_spam_data, bins=bins, color='blue', density=True, alpha=0.7, label='not_spam')\n",
    "plt.title('NumWordsTitle')\n",
    "plt.legend()\n",
    "plt.show()"
   ]
  },
  {
   "cell_type": "code",
   "execution_count": 18,
   "metadata": {},
   "outputs": [],
   "source": [
    "#Добавить графики для остальных фичей"
   ]
  },
  {
   "cell_type": "markdown",
   "metadata": {},
   "source": [
    "** Классификатор: **\n",
    "Нужно реализовать"
   ]
  },
  {
   "cell_type": "code",
   "execution_count": 19,
   "metadata": {},
   "outputs": [],
   "source": [
    "class Classifier:\n",
    "    \n",
    "    def __init__(self):\n",
    "        pass\n",
    "\n",
    "    def predict(self, doc):        \n",
    "        return doc.features[0]                     \n",
    "    \n",
    "    def predict_all(self, docs):\n",
    "        res = []\n",
    "        for doc_num, doc in enumerate(docs):\n",
    "            trace(doc_num)\n",
    "            prediction = self.predict(doc)            \n",
    "            res.append( (doc.doc_id, doc.is_spam, doc.url, prediction) )\n",
    "        return res\n",
    "    \n",
    "    def train(self, docs):                \n",
    "        for doc_num, doc in enumerate(docs):                            \n",
    "            #TODO вставить код обучения\n",
    "            trace(doc_num)\n",
    "        trace(doc_num, 1)"
   ]
  },
  {
   "cell_type": "code",
   "execution_count": 20,
   "metadata": {
    "scrolled": true
   },
   "outputs": [
    {
     "name": "stderr",
     "output_type": "stream",
     "text": [
      "20:36:56 INFO:Complete items 00000\n",
      "20:36:56 INFO:Complete items 01000\n",
      "20:36:56 INFO:Complete items 02000\n",
      "20:36:56 INFO:Complete items 03000\n",
      "20:36:56 INFO:Complete items 04000\n",
      "20:36:56 INFO:Complete items 05000\n",
      "20:36:56 INFO:Complete items 06000\n",
      "20:36:56 INFO:Complete items 07000\n",
      "20:36:56 INFO:Complete items 07043\n"
     ]
    }
   ],
   "source": [
    "classifier = Classifier()\n",
    "classifier.train(train_docs)"
   ]
  },
  {
   "cell_type": "code",
   "execution_count": 21,
   "metadata": {},
   "outputs": [
    {
     "data": {
      "text/plain": [
       "6"
      ]
     },
     "execution_count": 21,
     "metadata": {},
     "output_type": "execute_result"
    }
   ],
   "source": [
    "#Посмотреть, что предсказывается для тестового html\n",
    "classifier.predict(DocItem(0, 0, test_url , test_features))"
   ]
  },
  {
   "cell_type": "markdown",
   "metadata": {},
   "source": [
    "** Рисуем графики **"
   ]
  },
  {
   "cell_type": "code",
   "execution_count": 22,
   "metadata": {
    "scrolled": true
   },
   "outputs": [
    {
     "name": "stderr",
     "output_type": "stream",
     "text": [
      "20:36:56 INFO:Complete items 00000\n",
      "20:36:56 INFO:Complete items 01000\n",
      "20:36:56 INFO:Complete items 02000\n",
      "20:36:56 INFO:Complete items 03000\n",
      "20:36:56 INFO:Complete items 04000\n",
      "20:36:56 INFO:Complete items 05000\n",
      "20:36:56 INFO:Complete items 06000\n",
      "20:36:56 INFO:Complete items 07000\n"
     ]
    },
    {
     "name": "stdout",
     "output_type": "stream",
     "text": [
      "threshold 0\n",
      "\tclass_prec 0.5833333333333334, class_recall 1.0, class_F1 0.7368421052631579\n",
      "\tnot_class_prec 0.0, not_class_recall 0.0, not_class_F1 0.0\n",
      "\t\tMacroF1Mesure 0.3684210526315789\n",
      "threshold 100\n",
      "\tclass_prec 0.5840695354801938, class_recall 0.9975663178388903, class_F1 0.7367664240136604\n",
      "\tnot_class_prec 0.6153846153846154, not_class_recall 0.00545144804088586, not_class_F1 0.010807159743329955\n",
      "\t\tMacroF1Mesure 0.3737867918784952\n",
      "threshold 200\n",
      "\tclass_prec 0.5845487364620938, class_recall 0.9851545388172305, class_F1 0.7337321007794091\n",
      "\tnot_class_prec 0.48739495798319327, not_class_recall 0.019761499148211244, not_class_F1 0.03798297314996726\n",
      "\t\tMacroF1Mesure 0.38585753696468816\n",
      "threshold 300\n",
      "\tclass_prec 0.582345971563981, class_recall 0.9569238257483572, class_F1 0.7240585581438173\n",
      "\tnot_class_prec 0.3938356164383562, not_class_recall 0.039182282793867124, not_class_F1 0.07127362875735978\n",
      "\t\tMacroF1Mesure 0.3976660934505885\n",
      "threshold 400\n",
      "\tclass_prec 0.5810331534309946, class_recall 0.9170114383061572, class_F1 0.711346044931093\n",
      "\tnot_class_prec 0.38998211091234347, not_class_recall 0.07427597955706984, not_class_F1 0.12478534630795649\n",
      "\t\tMacroF1Mesure 0.4180656956195247\n",
      "threshold 500\n",
      "\tclass_prec 0.5659056823862689, class_recall 0.8264784619128742, class_F1 0.6718100890207716\n",
      "\tnot_class_prec 0.31639501438159157, not_class_recall 0.11243611584327087, not_class_F1 0.16591251885369532\n",
      "\t\tMacroF1Mesure 0.4188613039372334\n",
      "threshold 600\n",
      "\tclass_prec 0.5438210487715438, class_recall 0.7218301289851545, class_F1 0.6203074349053644\n",
      "\tnot_class_prec 0.2811320754716981, not_class_recall 0.15229982964224872, not_class_F1 0.1975690607734807\n",
      "\t\tMacroF1Mesure 0.40893824783942256\n",
      "threshold 700\n",
      "\tclass_prec 0.5164446294754371, class_recall 0.6037965441713312, class_F1 0.5567149108044429\n",
      "\tnot_class_prec 0.2732142857142857, not_class_recall 0.20851788756388415, not_class_F1 0.23652173913043475\n",
      "\t\tMacroF1Mesure 0.3966183249674388\n",
      "threshold 800\n",
      "\tclass_prec 0.4887520719867393, class_recall 0.5023119980530543, class_F1 0.49543927028324536\n",
      "\tnot_class_prec 0.27507975895072667, not_class_recall 0.2643952299829642, not_class_F1 0.26963168867268933\n",
      "\t\tMacroF1Mesure 0.38253547947796734\n",
      "threshold 900\n",
      "\tclass_prec 0.46162104133118625, class_recall 0.41859333171087854, class_F1 0.43905552010210586\n",
      "\tnot_class_prec 0.27998794454490655, not_class_recall 0.3165247018739353, not_class_F1 0.297137374060451\n",
      "\t\tMacroF1Mesure 0.3680964470812784\n",
      "threshold 1000\n",
      "\tclass_prec 0.44022713687985654, class_recall 0.35848138233146754, class_F1 0.39517102615694166\n",
      "\tnot_class_prec 0.2871822606814494, not_class_recall 0.361839863713799, not_class_F1 0.3202170963364993\n",
      "\t\tMacroF1Mesure 0.3576940612467205\n",
      "threshold 1100\n",
      "\tclass_prec 0.4193979933110368, class_recall 0.3051837430031638, class_F1 0.35328919566136074\n",
      "\tnot_class_prec 0.2957572767636902, not_class_recall 0.40851788756388413, not_class_F1 0.34311060237516094\n",
      "\t\tMacroF1Mesure 0.34819989901826087\n",
      "threshold 1200\n",
      "\tclass_prec 0.4059875867104783, class_recall 0.2706254563154052, class_F1 0.3247663551401869\n",
      "\tnot_class_prec 0.30383275261324044, not_class_recall 0.44565587734241907, not_class_F1 0.36132596685082874\n",
      "\t\tMacroF1Mesure 0.34304616099550783\n",
      "threshold 1300\n",
      "\tclass_prec 0.3968636911942099, class_recall 0.2402044293015332, class_F1 0.29927228623408125\n",
      "\tnot_class_prec 0.31490015360983103, not_class_recall 0.4889267461669506, not_class_F1 0.3830752802989855\n",
      "\t\tMacroF1Mesure 0.34117378326653336\n",
      "threshold 1400\n",
      "\tclass_prec 0.3640091116173121, class_recall 0.19445120467266974, class_F1 0.25348984771573607\n",
      "\tnot_class_prec 0.3173850278407919, not_class_recall 0.5243611584327087, not_class_F1 0.3954265159301131\n",
      "\t\tMacroF1Mesure 0.3244581818229246\n",
      "threshold 1500\n",
      "\tclass_prec 0.345, class_recall 0.16792406911657337, class_F1 0.22589621869373058\n",
      "\tnot_class_prec 0.32216494845360827, not_class_recall 0.5536626916524702, not_class_F1 0.4073192129339516\n",
      "\t\tMacroF1Mesure 0.3166077158138411\n",
      "threshold 1600\n",
      "\tclass_prec 0.3316858868753432, class_recall 0.14699440253102944, class_F1 0.20370994940978077\n",
      "\tnot_class_prec 0.3289297338694237, not_class_recall 0.5853492333901192, not_class_F1 0.421181662172101\n",
      "\t\tMacroF1Mesure 0.3124458057909409\n",
      "threshold 1700\n",
      "\tclass_prec 0.31699939503932245, class_recall 0.12752494524215138, class_F1 0.181881291218327\n",
      "\tnot_class_prec 0.3350027824151363, not_class_recall 0.6153321976149915, not_class_F1 0.4338217631515734\n",
      "\t\tMacroF1Mesure 0.3078515271849502\n",
      "threshold 1800\n",
      "\tclass_prec 0.29814077025232405, class_recall 0.10927232903382818, class_F1 0.15992876224398933\n",
      "\tnot_class_prec 0.3391115926327194, not_class_recall 0.6398637137989779, not_class_F1 0.4432904520240765\n",
      "\t\tMacroF1Mesure 0.30160960713403295\n",
      "threshold 1900\n",
      "\tclass_prec 0.29067245119305857, class_recall 0.09783402287661232, class_F1 0.14639475600874\n",
      "\tnot_class_prec 0.3451686981098746, not_class_recall 0.6657580919931857, not_class_F1 0.4546300604932527\n",
      "\t\tMacroF1Mesure 0.30051240825099634\n",
      "threshold 2000\n",
      "\tclass_prec 0.2695035460992908, class_recall 0.08323192990995376, class_F1 0.12718482707326145\n",
      "\tnot_class_prec 0.3477056277056277, not_class_recall 0.6841567291311754, not_class_F1 0.4610792192881745\n",
      "\t\tMacroF1Mesure 0.29413202318071796\n",
      "threshold 2100\n",
      "\tclass_prec 0.2629787234042553, class_recall 0.07520077877829155, class_F1 0.1169568508705526\n",
      "\tnot_class_prec 0.35253024365309255, not_class_recall 0.7049403747870528, not_class_F1 0.47001363016810543\n",
      "\t\tMacroF1Mesure 0.293485240519329\n",
      "threshold 2200\n",
      "\tclass_prec 0.2629151291512915, class_recall 0.06935994159162813, class_F1 0.10976314269208551\n",
      "\tnot_class_prec 0.35838926174496644, not_class_recall 0.7277683134582623, not_class_F1 0.48026981450252954\n",
      "\t\tMacroF1Mesure 0.2950164785973075\n",
      "threshold 2300\n",
      "\tclass_prec 0.25951219512195123, class_recall 0.06473594548551959, class_F1 0.10362290611608882\n",
      "\tnot_class_prec 0.3615218474829706, not_class_recall 0.741396933560477, not_class_F1 0.4860397587670316\n",
      "\t\tMacroF1Mesure 0.29483133244156023\n",
      "threshold 2400\n",
      "\tclass_prec 0.2554973821989529, class_recall 0.05938184473107812, class_F1 0.09636650868878356\n",
      "\tnot_class_prec 0.36524880932829695, not_class_recall 0.7577512776831345, not_class_F1 0.49290780141843965\n",
      "\t\tMacroF1Mesure 0.2946371550536116\n",
      "threshold 2500\n",
      "\tclass_prec 0.263215859030837, class_recall 0.05816500365052324, class_F1 0.09527606139126968\n",
      "\tnot_class_prec 0.36929595827900913, not_class_recall 0.77206132879046, not_class_F1 0.49961415499944883\n",
      "\t\tMacroF1Mesure 0.29744510819535924\n",
      "threshold 2600\n",
      "\tclass_prec 0.2585812356979405, class_recall 0.05500121684108056, class_F1 0.0907084085892033\n",
      "\tnot_class_prec 0.3706645056726094, not_class_recall 0.7792163543441226, not_class_F1 0.502361339923119\n",
      "\t\tMacroF1Mesure 0.29653487425616115\n",
      "threshold 2700\n",
      "\tclass_prec 0.25903614457831325, class_recall 0.05232416646385982, class_F1 0.08706215833164607\n",
      "\tnot_class_prec 0.3733504988735114, not_class_recall 0.7904599659284497, not_class_F1 0.507159252377309\n",
      "\t\tMacroF1Mesure 0.29711070535447753\n",
      "threshold 2800\n",
      "\tclass_prec 0.2569620253164557, class_recall 0.049403747870528106, class_F1 0.08287405592978159\n",
      "\tnot_class_prec 0.3754397185801087, not_class_recall 0.8, not_class_F1 0.5110458156491458\n",
      "\t\tMacroF1Mesure 0.29695993578946367\n",
      "threshold 2900\n",
      "\tclass_prec 0.2565104166666667, class_recall 0.04794353857386225, class_F1 0.08078736928439614\n",
      "\tnot_class_prec 0.37667304015296366, not_class_recall 0.8054514480408859, not_class_F1 0.5132993160351753\n",
      "\t\tMacroF1Mesure 0.2970433426597857\n",
      "threshold 3000\n",
      "\tclass_prec 0.2595108695652174, class_recall 0.0464833292771964, class_F1 0.07884416924664603\n",
      "\tnot_class_prec 0.3788839568801522, not_class_recall 0.8143100511073254, not_class_F1 0.517148112084821\n",
      "\t\tMacroF1Mesure 0.29799614066573354\n"
     ]
    },
    {
     "data": {
      "image/png": "[encoded data removed]",
      "text/plain": [
       "<Figure size 720x360 with 1 Axes>"
      ]
     },
     "metadata": {
      "needs_background": "light"
     },
     "output_type": "display_data"
    },
    {
     "data": {
      "image/png": "[encoded data removed]",
      "text/plain": [
       "<Figure size 720x360 with 1 Axes>"
      ]
     },
     "metadata": {
      "needs_background": "light"
     },
     "output_type": "display_data"
    }
   ],
   "source": [
    "plot_results(train_docs, min_threshold=0, max_threshold=3000, step=100, trace=1)"
   ]
  },
  {
   "cell_type": "code",
   "execution_count": 23,
   "metadata": {},
   "outputs": [
    {
     "name": "stderr",
     "output_type": "stream",
     "text": [
      "20:36:57 INFO:Complete items 00000 in worker_id 0\n",
      "20:36:57 INFO:Complete items 00000 in worker_id 1\n",
      "20:36:57 INFO:Complete items 00000 in worker_id 2\n",
      "20:36:57 INFO:Complete items 00000\n",
      "20:36:57 INFO:Complete items 00000 in worker_id 3\n",
      "20:37:07 INFO:Complete items 01000 in worker_id 2\n",
      "20:37:07 INFO:Complete items 01000 in worker_id 1\n",
      "20:37:08 INFO:Complete items 01000\n",
      "20:37:10 INFO:Complete items 01000 in worker_id 3\n",
      "20:37:13 INFO:Complete items 01000 in worker_id 0\n",
      "20:37:15 INFO:Complete items 02000 in worker_id 1\n",
      "20:37:15 INFO:Complete items 02000 in worker_id 2\n",
      "20:37:20 INFO:Complete items 02000\n",
      "20:37:23 INFO:Complete items 02000 in worker_id 0\n",
      "20:37:23 INFO:Complete items 02000 in worker_id 3\n",
      "20:37:24 INFO:Complete items 03000 in worker_id 2\n",
      "20:37:25 INFO:Complete items 03000 in worker_id 1\n",
      "20:37:28 INFO:Complete items 03000\n",
      "20:37:30 INFO:Complete items 03000 in worker_id 3\n",
      "20:37:32 INFO:Complete items 04000 in worker_id 2\n",
      "20:37:32 INFO:Complete items 03000 in worker_id 0\n",
      "20:37:33 INFO:Complete items 04000 in worker_id 1\n",
      "20:37:36 INFO:Complete items 04000\n",
      "20:37:38 INFO:Complete items 05000 in worker_id 2\n",
      "20:37:40 INFO:Complete items 04000 in worker_id 0\n",
      "20:37:40 INFO:Complete items 04000 in worker_id 3\n",
      "20:37:42 INFO:Complete items 05000 in worker_id 1\n",
      "20:37:43 INFO:Complete items 05000\n",
      "20:37:45 INFO:Complete items 06000 in worker_id 2\n",
      "20:37:47 INFO:Complete items 05000 in worker_id 3\n",
      "20:37:47 INFO:Complete items 05000 in worker_id 0\n",
      "20:37:52 INFO:Complete items 07000 in worker_id 2\n",
      "20:37:52 INFO:Complete items 06000\n",
      "20:37:53 INFO:Complete items 06000 in worker_id 1\n",
      "20:37:53 INFO:Complete items 06000 in worker_id 0\n",
      "20:37:54 INFO:Complete items 06000 in worker_id 3\n",
      "20:37:56 INFO:Complete items 08000 in worker_id 2\n",
      "20:37:58 INFO:Complete items 07000\n",
      "20:37:59 INFO:Complete items 07000 in worker_id 1\n",
      "20:37:59 INFO:Complete items 07000 in worker_id 0\n",
      "20:38:00 INFO:Complete items 07000 in worker_id 3\n",
      "20:38:03 INFO:Complete items 09000 in worker_id 2\n",
      "20:38:05 INFO:Complete items 08000\n",
      "20:38:08 INFO:Complete items 08000 in worker_id 1\n",
      "20:38:09 INFO:Complete items 08000 in worker_id 3\n",
      "20:38:09 INFO:Complete items 08000 in worker_id 0\n",
      "20:38:11 INFO:Complete items 10000 in worker_id 2\n",
      "20:38:13 INFO:Complete items 09000\n",
      "20:38:16 INFO:Complete items 09000 in worker_id 1\n",
      "20:38:16 INFO:Complete items 09000 in worker_id 3\n",
      "20:38:19 INFO:Complete items 09000 in worker_id 0\n",
      "20:38:21 INFO:Complete items 11000 in worker_id 2\n",
      "20:38:24 INFO:Complete items 10000\n",
      "20:38:25 INFO:Complete items 10000 in worker_id 1\n",
      "20:38:30 INFO:Complete items 10000 in worker_id 0\n",
      "20:38:33 INFO:Complete items 12000 in worker_id 2\n",
      "20:38:33 INFO:Complete items 11000 in worker_id 1\n",
      "20:38:36 INFO:Complete items 11000\n",
      "20:38:36 INFO:Complete items 10000 in worker_id 3\n",
      "20:38:39 INFO:Complete items 11000 in worker_id 0\n",
      "20:38:44 INFO:Complete items 12000 in worker_id 1\n",
      "20:38:45 INFO:Complete items 13000 in worker_id 2\n",
      "20:38:45 INFO:Complete items 11000 in worker_id 3\n",
      "20:38:46 INFO:Complete items 12000\n",
      "20:38:50 INFO:Complete items 12000 in worker_id 0\n",
      "20:38:52 INFO:Complete items 13000 in worker_id 1\n",
      "20:38:53 INFO:Complete items 12000 in worker_id 3\n",
      "20:38:55 INFO:Complete items 13000\n",
      "20:38:58 INFO:Complete items 13000 in worker_id 0\n",
      "20:38:58 INFO:Complete items 14000 in worker_id 2\n",
      "20:39:01 INFO:Complete items 13000 in worker_id 3\n",
      "20:39:01 INFO:Complete items 14000 in worker_id 1\n",
      "20:39:05 INFO:Complete items 14000\n",
      "20:39:07 INFO:Complete items 14000 in worker_id 0\n",
      "20:39:09 INFO:Complete items 15000 in worker_id 2\n",
      "20:39:10 INFO:Complete items 15000 in worker_id 1\n",
      "20:39:11 INFO:Complete items 14000 in worker_id 3\n",
      "20:39:16 INFO:Complete items 15000\n",
      "20:39:19 INFO:Complete items 15000 in worker_id 0\n",
      "20:39:21 INFO:Complete items 15000 in worker_id 3\n",
      "20:39:21 INFO:Complete items 16000 in worker_id 1\n",
      "20:39:22 INFO:Complete items 16038 in worker_id 1\n",
      "20:39:23 INFO:Complete items 16000 in worker_id 2\n",
      "20:39:23 INFO:Complete items 16038 in worker_id 2\n",
      "20:39:26 INFO:Complete items 16000 in worker_id 0\n",
      "20:39:27 INFO:Complete items 16038 in worker_id 0\n",
      "20:39:30 INFO:Complete items 16000\n",
      "20:39:30 INFO:Complete items 16000 in worker_id 3\n",
      "20:39:31 INFO:Complete items 16038 in worker_id 3\n"
     ]
    },
    {
     "name": "stdout",
     "output_type": "stream",
     "text": [
      "CPU times: user 1.1 s, sys: 279 ms, total: 1.38 s\n",
      "Wall time: 2min 33s\n"
     ]
    }
   ],
   "source": [
    "%%time\n",
    "\n",
    "TEST_DATA_FILE  = 'kaggle_test_data_tab.csv'\n",
    "# TEST_DATA_FILE  = 'kaggle_test_data_tab.csv.gz'\n",
    "\n",
    "test_docs = load_csv_multiprocess(TEST_DATA_FILE, calc_features)\n",
    "\n",
    "threshold = 800\n",
    "\n",
    "with open('my_submission.csv' , 'wt') as fout:\n",
    "    writer = csv.writer(fout)\n",
    "    writer.writerow(['Id','Prediction'])\n",
    "    for item in classifier.predict_all(test_docs):\n",
    "        prediction =  1 if item[3] > threshold else 0\n",
    "        writer.writerow([item[0], prediction])"
   ]
  }
 ],
 "metadata": {
  "anaconda-cloud": {},
  "kernelspec": {
   "display_name": "Python 3",
   "language": "python",
   "name": "python3"
  },
  "language_info": {
   "codemirror_mode": {
    "name": "ipython",
    "version": 3
   },
   "file_extension": ".py",
   "mimetype": "text/x-python",
   "name": "python",
   "nbconvert_exporter": "python",
   "pygments_lexer": "ipython3",
   "version": "3.8.2"
  },
  "varInspector": {
   "cols": {
    "lenName": 16,
    "lenType": 16,
    "lenVar": 40
   },
   "kernels_config": {
    "python": {
     "delete_cmd_postfix": "",
     "delete_cmd_prefix": "del ",
     "library": "var_list.py",
     "varRefreshCmd": "print(var_dic_list())"
    },
    "r": {
     "delete_cmd_postfix": ") ",
     "delete_cmd_prefix": "rm(",
     "library": "var_list.r",
     "varRefreshCmd": "cat(var_dic_list()) "
    }
   },
   "types_to_exclude": [
    "module",
    "function",
    "builtin_function_or_method",
    "instance",
    "_Feature"
   ],
   "window_display": false
  }
 },
 "nbformat": 4,
 "nbformat_minor": 1
}
