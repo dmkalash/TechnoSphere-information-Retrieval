{
 "cells": [
  {
   "cell_type": "markdown",
   "metadata": {},
   "source": [
    "# Антиспам"
   ]
  },
  {
   "cell_type": "code",
   "execution_count": 1,
   "metadata": {},
   "outputs": [],
   "source": [
    "from __future__ import division\n",
    "\n",
    "import base64\n",
    "import csv\n",
    "import gzip\n",
    "import zlib\n",
    "\n",
    "from random import randrange\n",
    "import os\n",
    "from sklearn.svm import OneClassSVM\n",
    "from sklearn.neighbors import LocalOutlierFactor as LOF\n",
    "from multiprocessing import Process, Queue, Lock, Pool\n",
    "from tqdm.notebook import tqdm\n",
    "from sklearn.feature_extraction.text import TfidfVectorizer\n",
    "from collections import namedtuple\n",
    "from sklearn.decomposition import NMF\n",
    "from bs4 import BeautifulSoup\n",
    "from sklearn.model_selection import StratifiedKFold\n",
    "from sklearn.ensemble import RandomForestClassifier\n",
    "\n",
    "from sklearn.preprocessing import StandardScaler\n",
    "from sklearn.neighbors import KNeighborsClassifier as KNN\n",
    "from sklearn.ensemble import StackingClassifier\n",
    "from sklearn.linear_model import LogisticRegression\n",
    "import itertools \n",
    "import numpy as np\n",
    "from sklearn.svm import SVC\n",
    "import xgboost as xgb\n",
    "from sklearn.naive_bayes import GaussianNB\n",
    "from sklearn.utils.estimator_checks import check_estimator\n",
    "from sklearn.base import BaseEstimator, ClassifierMixin\n",
    "from tqdm.notebook import tqdm\n",
    "from sklearn.utils.multiclass import unique_labels\n",
    "from sklearn.metrics import f1_score\n",
    "\n",
    "import pandas as pd\n",
    "\n",
    "%matplotlib inline\n",
    "import matplotlib.pyplot as plt"
   ]
  },
  {
   "cell_type": "code",
   "execution_count": 2,
   "metadata": {},
   "outputs": [],
   "source": [
    "TRACE_NUM = 1000\n",
    "import logging\n",
    "import importlib\n",
    "importlib.reload(logging)\n",
    "logging.basicConfig(format='%(asctime)s %(levelname)s:%(message)s', level=logging.INFO, datefmt='%H:%M:%S')\n",
    "\n",
    "def trace(items_num, trace_num=TRACE_NUM):\n",
    "    if items_num % trace_num == 0: logging.info(\"Complete items %05d\" % items_num)\n",
    "        \n",
    "def trace_worker(items_num, worker_id, trace_num=TRACE_NUM):\n",
    "    if items_num % trace_num == 0: logging.info(\"Complete items %05d in worker_id %d\" % (items_num, worker_id))"
   ]
  },
  {
   "cell_type": "markdown",
   "metadata": {},
   "source": [
    "### Извлечение текста из html"
   ]
  },
  {
   "cell_type": "code",
   "execution_count": 3,
   "metadata": {},
   "outputs": [],
   "source": [
    "from html.parser import HTMLParser\n",
    "import re\n",
    "\n",
    "###Извлечение текста из title можно вписать сюда\n",
    "\n",
    "class TextHTMLParser(HTMLParser):\n",
    "    def __init__(self):\n",
    "        HTMLParser.__init__(self)\n",
    "        self._text = []\n",
    "        self._title = \"\"\n",
    "        self._in_title = False\n",
    "\n",
    "    def handle_data(self, data):\n",
    "        text = data.strip()\n",
    "        if len(text) > 0:\n",
    "            text = re.sub('[ \\t\\r\\n]+', ' ', text)\n",
    "            self._text.append(text + ' ')\n",
    "\n",
    "    def handle_starttag(self, tag, attrs):\n",
    "        if tag == 'p':\n",
    "            self._text.append('\\n\\n')\n",
    "        elif tag == 'br':\n",
    "            self._text.append('\\n')\n",
    "        elif tag == 'title':\n",
    "            self._in_title = True\n",
    "\n",
    "    def handle_startendtag(self, tag, attrs):\n",
    "        if tag == 'br':\n",
    "            self._text.append('\\n\\n')\n",
    "\n",
    "    def text(self):\n",
    "        return ''.join(self._text).strip()\n",
    "\n",
    "def html2text_parser(text):\n",
    "    parser = TextHTMLParser()\n",
    "    parser.feed(text)\n",
    "    return parser.text()"
   ]
  },
  {
   "cell_type": "code",
   "execution_count": 4,
   "metadata": {},
   "outputs": [
    {
     "data": {
      "text/plain": [
       "'hhh, HHHHHhh askfdjnsakjfnakj KHJBJHBJHKBbukhbj'"
      ]
     },
     "execution_count": 4,
     "metadata": {},
     "output_type": "execute_result"
    }
   ],
   "source": [
    "html2text_parser(\"<html>hhh, HHHHHhh <body> askfdjnsakjfnakj KHJBJHBJHKBbukhbj</html>\")"
   ]
  },
  {
   "cell_type": "code",
   "execution_count": 5,
   "metadata": {},
   "outputs": [],
   "source": [
    "def html2text_bs(raw_html):\n",
    "    \"\"\"\n",
    "    Тут производится извлечения из html текста\n",
    "    \"\"\"\n",
    "    soup = BeautifulSoup(raw_html, \"html.parser\")\n",
    "    return ' '.join( [s.extract().get_text() for s in soup(['script', 'style'])] )\n",
    "\n",
    "def html2text_bs_visible(raw_html):\n",
    "    \"\"\"\n",
    "    Тут производится извлечения из html текста, который видим пользователю\n",
    "    \"\"\"\n",
    "    soup = BeautifulSoup(raw_html, \"html.parser\")    \n",
    "    return ' '.join( [s.extract().get_text() for s in \n",
    "                          soup(['style', 'script', '[document]', 'head', 'title'])] )\n",
    "\n",
    "\n",
    "def html2text_bs_title(raw_html):\n",
    "    \"\"\"\n",
    "    Тут производится извлечения из html - title\n",
    "    \"\"\"\n",
    "    soup = BeautifulSoup(raw_html, \"html.parser\")    \n",
    "    return ' '.join( [s.extract().get_text() for s in soup(['title'])] )\n",
    "\n",
    "\n",
    "def html2text_bs_anchors(raw_html):\n",
    "    \"\"\"\n",
    "    Тут производится извлечения из html - title\n",
    "    \"\"\"\n",
    "    soup = BeautifulSoup(raw_html, \"html.parser\")    \n",
    "    return ' '.join( [s.extract().get_text() for s in soup(['a'])] )\n",
    "\n",
    "\n",
    "def html2text_bs_keywords(raw_html):\n",
    "    soup = BeautifulSoup(raw_html, \"html.parser\")   \n",
    "    kw = soup.find(\"meta\", attrs={\"name\": \"keywords\"})\n",
    "    return kw.get('content', \"\") if kw else \"\"\n",
    "\n",
    "\n",
    "def html2text_bs_select(raw_html):\n",
    "    \"\"\"\n",
    "    Тут производится извлечения из html - b i \n",
    "    \"\"\"\n",
    "    soup = BeautifulSoup(raw_html, \"html.parser\")    \n",
    "    return ' '.join( [s.extract().get_text() for s in soup(['b', 'i'])] )\n",
    "\n",
    "\n",
    "def html2text_bs_scripts_count(raw_html):\n",
    "    \"\"\"\n",
    "    Тут производится извлечения из html - title\n",
    "    \"\"\"\n",
    "    soup = BeautifulSoup(raw_html, \"html.parser\")    \n",
    "    return len( [s.extract() for s in soup(['script'])] )\n",
    "\n",
    "def html2text_bs_tags_count(raw_html):\n",
    "    \"\"\"\n",
    "    Тут производится извлечения из html - title\n",
    "    \"\"\"\n",
    "    soup = BeautifulSoup(raw_html, \"html.parser\") \n",
    "    return len([tag.name for tag in soup.findAll()])"
   ]
  },
  {
   "cell_type": "markdown",
   "metadata": {},
   "source": [
    "#### Выбираем какой метод для конвертации html в текст будет основным"
   ]
  },
  {
   "cell_type": "code",
   "execution_count": 6,
   "metadata": {},
   "outputs": [],
   "source": [
    "#html2text = html2text_bs\n",
    "html2text = html2text_parser"
   ]
  },
  {
   "cell_type": "markdown",
   "metadata": {},
   "source": [
    "#### Методы для токенизации текста"
   ]
  },
  {
   "cell_type": "code",
   "execution_count": 7,
   "metadata": {},
   "outputs": [],
   "source": [
    "def easy_tokenizer(text):\n",
    "    \n",
    "    word = str()\n",
    "    for symbol in text:\n",
    "        if symbol.isalnum(): word += symbol\n",
    "        elif word:\n",
    "            yield word\n",
    "            word = str()\n",
    "    if word: yield word\n",
    "\n",
    "\n",
    "def my_tokenizer(text):\n",
    "    return re.findall(r'\\w+', text)        \n",
    "        \n",
    "\n",
    "PYMORPHY_CACHE = {}\n",
    "MORPH = None\n",
    "#hint, чтобы установка pymorphy2 не была бы обязательной\n",
    "\n",
    "def get_lemmatizer():\n",
    "    import pymorphy2\n",
    "    global MORPH\n",
    "    if MORPH is None: MORPH = pymorphy2.MorphAnalyzer()\n",
    "    return MORPH\n",
    "\n",
    "def pymorphy_tokenizer(text):\n",
    "    global PYMORPHY_CACHE\n",
    "    for word in easy_tokenizer(text):\n",
    "        word_hash = hash(word)\n",
    "        if word_hash not in PYMORPHY_CACHE:\n",
    "            PYMORPHY_CACHE[word_hash] = get_lemmatizer().parse(word)[0].normal_form            \n",
    "        yield PYMORPHY_CACHE[word_hash]"
   ]
  },
  {
   "cell_type": "markdown",
   "metadata": {},
   "source": [
    "#### Основная функция, которая вызывается для преобразования html в список слов"
   ]
  },
  {
   "cell_type": "code",
   "execution_count": 8,
   "metadata": {},
   "outputs": [],
   "source": [
    "def html2word(raw_html, to_text=html2text, tokenizer=pymorphy_tokenizer): # my_tokenizer \n",
    "    return tokenizer(to_text(raw_html).lower())"
   ]
  },
  {
   "cell_type": "markdown",
   "metadata": {},
   "source": [
    "#### Рассчет финальных метрик"
   ]
  },
  {
   "cell_type": "code",
   "execution_count": 9,
   "metadata": {},
   "outputs": [],
   "source": [
    "def safe_divide(a, b):\n",
    "    if a == 0: return 0.0\n",
    "    elif b == 0: return 0.0\n",
    "    else: return a/b\n",
    "\n",
    "def calculate_metrics(predictions, threshold):    \n",
    "    \"\"\"\n",
    "    Функция подсчета метрик\n",
    "    Параметры\n",
    "    predictions - ранки по документам\n",
    "    threshold  - порог для метрик\n",
    "    \"\"\"\n",
    "    true_positive = 0\n",
    "    false_positive = 0\n",
    "    true_negative = 0\n",
    "    false_negative = 0\n",
    "    for (url_id, mark, url, prediction) in predictions:        \n",
    "        mark_predict = prediction > threshold\n",
    "\n",
    "        if mark_predict:                     \n",
    "            if mark_predict == mark: true_positive += 1\n",
    "            else: false_positive += 1                    \n",
    "        else:                     \n",
    "            if  mark_predict == mark: true_negative += 1\n",
    "            else: false_negative += 1\n",
    "\n",
    "    class_prec  = safe_divide(true_positive, true_positive + false_positive)\n",
    "    class_recall = safe_divide(true_positive, true_positive + false_negative)\n",
    "        \n",
    "    class_F1 = safe_divide(2 * class_prec * class_recall, class_prec + class_recall)\n",
    "    \n",
    "    \n",
    "    not_class_prec = safe_divide(true_negative, true_negative + false_negative)\n",
    "    not_class_recall = safe_divide(true_negative, true_negative + false_positive)\n",
    "    \n",
    "    not_class_F1 = safe_divide(2 * not_class_prec * not_class_recall, not_class_prec + not_class_recall)\n",
    "    \n",
    "    return ( (class_prec, class_recall, class_F1), (not_class_prec, not_class_recall, not_class_F1) )\n",
    "\n",
    "def arange(start, stop, step):\n",
    "    cur_value = start\n",
    "    while True:\n",
    "        if cur_value > stop: break\n",
    "        yield cur_value\n",
    "        cur_value += step\n",
    "\n",
    "def plot_results(docs, min_threshold=-1, max_threshold=1, step=0.1, trace=False):\n",
    "    x = []\n",
    "    y_p = []\n",
    "    y_n = []\n",
    "    docs_predictions = classifier.predict_all(docs)\n",
    "    for threshold in arange(min_threshold, max_threshold, step):\n",
    "        r = calculate_metrics(docs_predictions, threshold)\n",
    "        x.append(threshold)\n",
    "        y_p.append(r[0])\n",
    "        y_n.append(r[1])        \n",
    "        if trace: \n",
    "            print('threshold %s' % threshold)\n",
    "            print('\\tclass_prec %s, class_recall %s, class_F1 %s' % r[0])\n",
    "            print('\\tnot_class_prec %s, not_class_recall %s, not_class_F1 %s' % r[1])\n",
    "            print('\\t\\tMacroF1Mesure %s' % ((r[0][2] + r[1][2])/2))\n",
    "    plot_stats(x, y_p, \"Class Result\")\n",
    "    plot_stats(x, y_n, \"Not class Result\")    \n",
    "\n",
    "\n",
    "def plot_stats(x, y, title):\n",
    "    plt.figure(figsize=(10, 5))\n",
    "\n",
    "    prec, = plt.plot( x, \n",
    "                     [k[0] for k in y], \"r\", label='Precision', \n",
    "                     linewidth=1)\n",
    "    accur, = plt.plot( x, \n",
    "                      [k[1] for k in y], \"b\", label='Recall',\n",
    "                      linewidth=1)\n",
    "    f1, =    plt.plot( x, \n",
    "                      [k[2] for k in y], \"g\", label='F1',\n",
    "                      linewidth=1)\n",
    "    plt.grid(True)\n",
    "    plt.legend(handles=[prec, accur, f1])\n",
    "    plt.title(title)\n",
    "    plt.show()"
   ]
  },
  {
   "cell_type": "markdown",
   "metadata": {},
   "source": [
    "## TODO:\n",
    "\n",
    "- написать SVM-классификатор\n",
    "- написать Random Forest\n",
    "- написать Boosting \n",
    "- написать наивного байесовского классификатора\n",
    "- написать голосование/стекинг/блендинг"
   ]
  },
  {
   "cell_type": "markdown",
   "metadata": {},
   "source": [
    "#### Гиперпараметры"
   ]
  },
  {
   "cell_type": "code",
   "execution_count": 10,
   "metadata": {},
   "outputs": [],
   "source": [
    "N_COMPONENTS = 20\n",
    "MAX_ITER = 500\n",
    "NU = 0.71\n",
    "CONTAMINATION = 0.5\n",
    "N_NEIGHBORS = 50\n",
    "TRAIN_DATA_FILE  = 'kaggle_train_data_tab.csv'\n",
    "TEST_DATA_FILE  = 'kaggle_test_data_tab.csv'"
   ]
  },
  {
   "cell_type": "markdown",
   "metadata": {},
   "source": [
    "#### Функции для признаков"
   ]
  },
  {
   "cell_type": "code",
   "execution_count": 11,
   "metadata": {},
   "outputs": [],
   "source": [
    "def get_avg_word_len(words):\n",
    "    lens = list(map(len, words))\n",
    "    return sum(lens) / len(lens) if len(lens) > 0 else 0\n",
    "\n",
    "\n",
    "def get_compression_level(html_data):\n",
    "    num = str(randrange(1009))\n",
    "    filename = ''.join(('./tmp', num, '.gz'))\n",
    "    with gzip.open(filename, 'wb') as f:\n",
    "        f.write(html_data.encode())\n",
    "    # os.stat(filename).st_size # TODO: не совсем честно, лучше прочитать и посчитать \n",
    "    with open(filename, 'rb') as f:\n",
    "        return len(html_data) / len(f.read())\n",
    "    \n",
    "    os.remove(filename)\n",
    "    \n",
    "    print('get_compression_level: some problems')    \n",
    "\n",
    "\n",
    "def get_vectorizer(docs):\n",
    "    v = TfidfVectorizer()\n",
    "    v.fit(docs)\n",
    "    return v\n",
    "    \n",
    "    \n",
    "def get_idf_dict(docs, vectorizer):\n",
    "    idf = vectorizer.idf_\n",
    "    return dict(zip(vectorizer.get_feature_names(), idf))\n",
    "    \n",
    "\n",
    "def get_sum_idf(docs, idf_dict, html2text_bs_func):\n",
    "    features = []\n",
    "    for html_data in docs:\n",
    "        res = 0\n",
    "        words = list( html2word(html_data, to_text=html2text_bs_func) ) # \n",
    "        for word in words:\n",
    "            res += idf_dict.get(word, 0) # если слова нет в словаре, вернем 0\n",
    "        features.append(res)\n",
    "    return features\n",
    "\n",
    "\n",
    "def get_script_ratio(html_data):\n",
    "    return html2text_bs_scripts_count(html_data) / html2text_bs_tags_count(html_data)\n",
    "    #return html2text_bs_scripts_count(html_data)\n",
    "\n",
    "\n",
    "def svm_feature(vectors, nu=NU):\n",
    "    svm = OneClassSVM(nu=nu)\n",
    "    svm.fit(vectors)\n",
    "    return svm.decision_function(vectors)\n",
    "\n",
    "\n",
    "def lof_feature(vectors, contamination=CONTAMINATION, n_neighbors=N_NEIGHBORS): # плохо\n",
    "    lof = LOF(contamination=contamination, n_neighbors=n_neighbors)\n",
    "    return lof.decision_function(vectors)\n",
    "\n",
    "\n",
    "def get_entropy(vectors): # tfidf. очень много жрёт\n",
    "    ent = entropy(vectors.T)\n",
    "    return ent\n",
    "    \n",
    "\n",
    "#######\n",
    "\n",
    "def get_capital_letters_percent(html_data):\n",
    "    data = html2text_parser(html_data)\n",
    "    data = re.sub(r'\\W*', '', data)\n",
    "    return len(list(filter(lambda symb: symb.isupper(), data))) / max(1, len(data))\n",
    "\n",
    "\n",
    "def get_netloc_size(netloc):\n",
    "    return len(netloc.split('.'))\n",
    "\n",
    "\n",
    "def get_has_www(netloc):\n",
    "    return int('www' in netloc.lower())\n",
    "\n",
    "\n",
    "def get_is_narod(netloc):\n",
    "    return int('narod' in netloc.lower())\n",
    "\n",
    "\n",
    "def get_netloc_len(netloc):\n",
    "    return len(netloc)\n",
    "\n",
    "\n",
    "def get_path_len(path):\n",
    "    return len(path)\n",
    "\n",
    "\n",
    "def digit_percent_netloc(netloc):\n",
    "    return len(list(filter(lambda symb: symb.isdigit(), netloc))) / max(1, len(netloc))\n",
    "\n",
    "\n",
    "def get_sep_netloc(netloc):\n",
    "    return len(list(filter(lambda symb: symb == '_' or symb == '-', netloc))) / max(1, len(netloc))\n",
    "\n",
    "\n",
    "def get_sep_path(path):\n",
    "    return len(list(filter(lambda symb: symb == '_' or symb == '-', path))) / max(1, len(path))\n",
    "\n",
    "\n",
    "def get_spam_entries(url):\n",
    "    spam_words = ['ebut', 'porno', 'razvrat', 'sperma']\n",
    "    url = url.lower()\n",
    "    for word in spam_words:\n",
    "        if word in url:\n",
    "            return 1\n",
    "    return 0\n",
    "\n",
    "\n",
    "def get_domain_coef(netloc):\n",
    "    return acceptable_dict.get( netloc.lower().split('.')[-1], 0 )\n",
    "\n",
    "\n",
    "acceptable_dict = {'ru': 1.0,\n",
    "                     'com': 0.11196736174070716,\n",
    "                     'ua': 0.06300997280145058,\n",
    "                     'net': 0.04170444242973708,\n",
    "                     'kz': 0.02357207615593835,\n",
    "                     'info': 0.021758839528558477,\n",
    "                     'org': 0.02085222121486854,\n",
    "                     'su': 0.01314596554850408,\n",
    "                     'by': 0.012239347234814143}\n",
    "\n",
    "\n",
    "\n",
    "def get_ngram_entropy(html_data):\n",
    "    v = CountVectorizer(ngram_range=(2,2))\n",
    "    vectors = v.fit_transform([html_data]).toarray()\n",
    "    return entropy(vectors.T)[0]\n",
    "\n",
    "\n",
    "\n",
    "def get_count_entropy(html_data):\n",
    "    v = CountVectorizer()\n",
    "    vectors = v.fit_transform([html_data]).toarray()\n",
    "    return entropy(vectors.T)[0]"
   ]
  },
  {
   "cell_type": "markdown",
   "metadata": {},
   "source": [
    "#### Извлечение признаков"
   ]
  },
  {
   "cell_type": "code",
   "execution_count": 12,
   "metadata": {},
   "outputs": [],
   "source": [
    "from sklearn.feature_extraction.text import CountVectorizer\n",
    "from scipy.stats import entropy"
   ]
  },
  {
   "cell_type": "code",
   "execution_count": 13,
   "metadata": {},
   "outputs": [],
   "source": [
    "def calc_add_entropy(docs):\n",
    "    \n",
    "    res = []\n",
    "    for html_data in tqdm(docs):\n",
    "        html_data = ' '.join( list( html2word(html_data)))\n",
    "        res.append( [\n",
    "            get_ngram_entropy(html_data),\n",
    "            get_count_entropy(html_data),\n",
    "        ] )\n",
    "        \n",
    "    return res"
   ]
  },
  {
   "cell_type": "code",
   "execution_count": 14,
   "metadata": {},
   "outputs": [],
   "source": [
    "from urllib.parse import urlparse\n",
    "def calc_new_features(docs, urls):\n",
    "    \n",
    "    res = []\n",
    "    for html_data, str_url in tqdm(zip(docs, urls)):\n",
    "        url = urlparse(str_url)\n",
    "        res.append( \n",
    "            [get_capital_letters_percent(html_data),\n",
    "            get_netloc_size(url.netloc),\n",
    "            get_has_www(url.netloc),\n",
    "            get_is_narod(url.netloc),\n",
    "            get_netloc_len(url.netloc),\n",
    "            get_path_len(url.path),\n",
    "            digit_percent_netloc(url.netloc),\n",
    "            get_sep_netloc(url.netloc),\n",
    "            get_sep_path(url.path),\n",
    "            get_spam_entries(str_url),\n",
    "            get_domain_coef(url.netloc)]\n",
    "        )\n",
    "        \n",
    "    return res"
   ]
  },
  {
   "cell_type": "code",
   "execution_count": 15,
   "metadata": {},
   "outputs": [],
   "source": [
    "def calc_features(docs):\n",
    "    \n",
    "    res = []\n",
    "    for html_data in tqdm(docs):\n",
    "        words = list( html2word(html_data) )\n",
    "        title_words = list( html2word(html_data, to_text=html2text_bs_title) )\n",
    "        anchors_words = list( html2word(html_data, to_text=html2text_bs_anchors) )\n",
    "\n",
    "        words_num = len(words)\n",
    "        avg_word_len = get_avg_word_len(words)\n",
    "        title_words_num = len(title_words)\n",
    "        anchor_words_num = len(anchors_words)\n",
    "        compression_level = get_compression_level( ' '.join( list( html2word(html_data))) )\n",
    "        scripts_ratio = get_script_ratio(html_data)\n",
    "\n",
    "        res.append( [len(words), avg_word_len, title_words_num, anchor_words_num,\n",
    "                     compression_level, scripts_ratio] )\n",
    "        \n",
    "    print('get vectorizer...')\n",
    "    vectorizer = get_vectorizer(docs)\n",
    "    \n",
    "    print('get idfs...')\n",
    "    idf_dict = get_idf_dict(docs, vectorizer)\n",
    "    \n",
    "    print('create nmf...')\n",
    "    nmf = NMF(n_components=N_COMPONENTS, max_iter=MAX_ITER, init='random', random_state=0)\n",
    "    \n",
    "    print('start tf-idf vectorize...')\n",
    "    vectors = vectorizer.transform(docs)\n",
    "    \n",
    "    print('start nmf reduce...')\n",
    "    vectors = nmf.fit_transform(vectors)\n",
    "    \n",
    "    print('get sum idfs...')\n",
    "    new_features = [ get_sum_idf(docs, idf_dict, html2text_bs_keywords),\n",
    "                        get_sum_idf(docs, idf_dict, html2text_bs_select),\n",
    "                        get_sum_idf(docs, idf_dict, html2text_bs_title),\n",
    "                        svm_feature(vectors) ]\n",
    "    \n",
    "    print('start concatenate...')\n",
    "    \n",
    "    for i, lst in enumerate(zip(*new_features)):\n",
    "        res[i] += lst\n",
    "    \n",
    "    return res"
   ]
  },
  {
   "cell_type": "code",
   "execution_count": 16,
   "metadata": {},
   "outputs": [],
   "source": [
    "DocItem = namedtuple('DocItem', ['doc_id', 'is_spam', 'url', 'features'])\n",
    "\n",
    "WORKER_NUM = 4\n",
    "\n",
    "def load_csv(input_file_name, calc_features_f):    \n",
    "    \"\"\"\n",
    "    Загружаем данные и извлекаем на лету признаки\n",
    "    Сам контент не сохраняется, чтобы уменьшить потребление памяти - чтобы\n",
    "    можно было запускать даже на ноутбуках в классе\n",
    "    \"\"\"\n",
    "    global LAST_HTML\n",
    "    with gzip.open(input_file_name, mode='rt', encoding='utf8') if input_file_name.endswith('gz') else open(input_file_name, mode='rt', encoding='utf8')  as input_file:            \n",
    "        headers = input_file.readline()\n",
    "        \n",
    "        for i, line in enumerate(input_file):\n",
    "            trace(i)\n",
    "            parts = line.strip().split('\\t')\n",
    "            url_id = int(parts[0])                                        \n",
    "            mark = bool(int(parts[1]))                    \n",
    "            url = parts[2]\n",
    "            pageInb64 = parts[3]\n",
    "            html_data = base64.b64decode(pageInb64)\n",
    "            try:\n",
    "                html_data = html_data.decode('utf8')\n",
    "            except:\n",
    "                html_data = html_data.decode('latin1')\n",
    "            features = calc_features_f(url, html_data)            \n",
    "            yield DocItem(url_id, mark, url, features)            \n",
    "                \n",
    "        trace(i, 1)  \n",
    "        \n",
    "def load_csv_worker(input_file_name, calc_features_f, worker_id, res_queue):    \n",
    "    with gzip.open(input_file_name,  mode='rt', encoding='utf8') if input_file_name.endswith('gz') else open(input_file_name, mode='rt', encoding='utf8') as input_file:            \n",
    "        headers = input_file.readline()\n",
    "\n",
    "        for i, line in tqdm(enumerate(input_file)):\n",
    "            trace_worker(i, worker_id)\n",
    "            if i % WORKER_NUM != worker_id: continue\n",
    "            \n",
    "            parts = line.strip().split('\\t')\n",
    "            url_id = int(parts[0])                                        \n",
    "            mark = bool(int(parts[1]))                    \n",
    "            url = parts[2]\n",
    "            pageInb64 = parts[3]\n",
    "            html_data = base64.b64decode(pageInb64)\n",
    "            try:\n",
    "                html_data = html_data.decode('utf8')\n",
    "            except:\n",
    "                html_data = html_data.decode('latin1')\n",
    "            features = calc_features_f(url, html_data)\n",
    "            res_queue.put(DocItem(url_id, mark, url, features))\n",
    "                \n",
    "        trace_worker(i, worker_id, 1)  \n",
    "    res_queue.put(None)\n",
    "\n",
    "\n",
    "def old_load_csv_multiprocess(input_file_name, calc_features_f):\n",
    "    processes = []\n",
    "    res_queue = Queue()\n",
    "    \n",
    "    for i in range(WORKER_NUM):\n",
    "        process = Process(target=load_csv_worker, args=(input_file_name, calc_features_f, i, res_queue))\n",
    "        processes.append(process)\n",
    "        process.start()\n",
    "    \n",
    "    complete_workers = 0\n",
    "    while complete_workers != WORKER_NUM:\n",
    "        item = res_queue.get()\n",
    "        if item is None:\n",
    "            complete_workers += 1\n",
    "        else:\n",
    "            yield item\n",
    "        \n",
    "    for process in processes: process.join()\n",
    "        \n",
    "#pool.join()\n",
    "        \n",
    "        \n",
    "def load_csv_multiprocess(input_file_name, calc_features_f):\n",
    "    \n",
    "    queue = Queue()\n",
    "    \n",
    "    with open(input_file_name, mode='rt', encoding='utf8') as input_file:\n",
    "        cnt = -1\n",
    "        for line in input_file:\n",
    "            cnt += 1\n",
    "\n",
    "    for i in range(cnt):\n",
    "        queue.put(i)\n",
    "    \n",
    "    with Pool(processes=4) as pool, tqdm(total=queue.qsize()) as pbar:\n",
    "        lock = pbar.get_lock()\n",
    "        pool.map(process_page_wrapper, range(pool._processes))\n",
    "        \n",
    "        \n",
    "def get_docs(input_file_name):\n",
    "    docs = []\n",
    "    marks = []\n",
    "    with open(input_file_name, mode='rt', encoding='utf8') as input_file:            \n",
    "        headers = input_file.readline()\n",
    "\n",
    "        for i, line in tqdm(enumerate(input_file)):\n",
    "            \n",
    "            parts = line.strip().split('\\t')\n",
    "            url_id = int(parts[0])                                        \n",
    "            mark = bool(int(parts[1]))                    \n",
    "            url = parts[2]\n",
    "            pageInb64 = parts[3]\n",
    "            html_data = base64.b64decode(pageInb64)\n",
    "            try:\n",
    "                html_data = html_data.decode('utf8')\n",
    "            except:\n",
    "                html_data = html_data.decode('latin1')\n",
    "            \n",
    "            docs.append( html_data )\n",
    "            marks.append( mark )\n",
    "                \n",
    "    return docs, marks\n",
    "\n",
    "\n",
    "def get_doc_ids(input_file_name):\n",
    "    ids = []\n",
    "    with open(input_file_name, mode='rt', encoding='utf8') as input_file:            \n",
    "        headers = input_file.readline()\n",
    "\n",
    "        for i, line in tqdm(enumerate(input_file)):\n",
    "            \n",
    "            parts = line.strip().split('\\t')\n",
    "            ids.append( int(parts[0]) )\n",
    "                \n",
    "    return ids\n",
    "\n",
    "\n",
    "def get_urls(input_file_name):\n",
    "    docs = []\n",
    "    marks = []\n",
    "    with open(input_file_name, mode='rt', encoding='utf8') as input_file:            \n",
    "        headers = input_file.readline()\n",
    "\n",
    "        for i, line in tqdm(enumerate(input_file)):\n",
    "            \n",
    "            parts = line.strip().split('\\t')\n",
    "            mark = bool(int(parts[1]))\n",
    "            url = parts[2]\n",
    "\n",
    "            docs.append( url )\n",
    "            marks.append( mark )\n",
    "                \n",
    "    return docs, marks\n",
    "\n",
    "def get_docs_and_urls(input_file_name):\n",
    "    docs = []\n",
    "    urls = []\n",
    "    marks = []\n",
    "    with open(input_file_name, mode='rt', encoding='utf8') as input_file:            \n",
    "        headers = input_file.readline()\n",
    "\n",
    "        for i, line in tqdm(enumerate(input_file)):\n",
    "            \n",
    "            parts = line.strip().split('\\t')\n",
    "            url_id = int(parts[0])                                        \n",
    "            mark = bool(int(parts[1]))                    \n",
    "            url = parts[2]\n",
    "            pageInb64 = parts[3]\n",
    "            html_data = base64.b64decode(pageInb64)\n",
    "            try:\n",
    "                html_data = html_data.decode('utf8')\n",
    "            except:\n",
    "                html_data = html_data.decode('latin1')\n",
    "            \n",
    "            docs.append( html_data )\n",
    "            urls.append( url )\n",
    "            marks.append( mark )\n",
    "                \n",
    "    return docs, urls, marks"
   ]
  },
  {
   "cell_type": "code",
   "execution_count": 17,
   "metadata": {},
   "outputs": [],
   "source": [
    "def get_new_features(data_file, calc_features_f):\n",
    "    train_docs, target = get_docs(data_file)\n",
    "    features = calc_features_f(train_docs)\n",
    "    \n",
    "    return features, target"
   ]
  },
  {
   "cell_type": "code",
   "execution_count": 21,
   "metadata": {
    "collapsed": true
   },
   "outputs": [
    {
     "data": {
      "application/vnd.jupyter.widget-view+json": {
       "model_id": "fc776d2ca7a6493bb899900863c9b8c2",
       "version_major": 2,
       "version_minor": 0
      },
      "text/plain": [
       "HBox(children=(HTML(value=''), FloatProgress(value=1.0, bar_style='info', layout=Layout(width='20px'), max=1.0…"
      ]
     },
     "metadata": {},
     "output_type": "display_data"
    },
    {
     "name": "stdout",
     "output_type": "stream",
     "text": [
      "\n"
     ]
    },
    {
     "ename": "KeyboardInterrupt",
     "evalue": "",
     "output_type": "error",
     "traceback": [
      "\u001b[0;31m---------------------------------------------------------------------------\u001b[0m",
      "\u001b[0;31mKeyboardInterrupt\u001b[0m                         Traceback (most recent call last)",
      "\u001b[0;32m<ipython-input-21-bc87634b9912>\u001b[0m in \u001b[0;36m<module>\u001b[0;34m\u001b[0m\n\u001b[0;32m----> 1\u001b[0;31m \u001b[0mtrain_docs\u001b[0m\u001b[0;34m,\u001b[0m \u001b[0mtarget\u001b[0m \u001b[0;34m=\u001b[0m \u001b[0mget_docs\u001b[0m\u001b[0;34m(\u001b[0m\u001b[0mTRAIN_DATA_FILE\u001b[0m\u001b[0;34m)\u001b[0m\u001b[0;34m\u001b[0m\u001b[0;34m\u001b[0m\u001b[0m\n\u001b[0m",
      "\u001b[0;32m<ipython-input-16-64f944f02db8>\u001b[0m in \u001b[0;36mget_docs\u001b[0;34m(input_file_name)\u001b[0m\n\u001b[1;32m    100\u001b[0m         \u001b[0mheaders\u001b[0m \u001b[0;34m=\u001b[0m \u001b[0minput_file\u001b[0m\u001b[0;34m.\u001b[0m\u001b[0mreadline\u001b[0m\u001b[0;34m(\u001b[0m\u001b[0;34m)\u001b[0m\u001b[0;34m\u001b[0m\u001b[0;34m\u001b[0m\u001b[0m\n\u001b[1;32m    101\u001b[0m \u001b[0;34m\u001b[0m\u001b[0m\n\u001b[0;32m--> 102\u001b[0;31m         \u001b[0;32mfor\u001b[0m \u001b[0mi\u001b[0m\u001b[0;34m,\u001b[0m \u001b[0mline\u001b[0m \u001b[0;32min\u001b[0m \u001b[0mtqdm\u001b[0m\u001b[0;34m(\u001b[0m\u001b[0menumerate\u001b[0m\u001b[0;34m(\u001b[0m\u001b[0minput_file\u001b[0m\u001b[0;34m)\u001b[0m\u001b[0;34m)\u001b[0m\u001b[0;34m:\u001b[0m\u001b[0;34m\u001b[0m\u001b[0;34m\u001b[0m\u001b[0m\n\u001b[0m\u001b[1;32m    103\u001b[0m \u001b[0;34m\u001b[0m\u001b[0m\n\u001b[1;32m    104\u001b[0m             \u001b[0mparts\u001b[0m \u001b[0;34m=\u001b[0m \u001b[0mline\u001b[0m\u001b[0;34m.\u001b[0m\u001b[0mstrip\u001b[0m\u001b[0;34m(\u001b[0m\u001b[0;34m)\u001b[0m\u001b[0;34m.\u001b[0m\u001b[0msplit\u001b[0m\u001b[0;34m(\u001b[0m\u001b[0;34m'\\t'\u001b[0m\u001b[0;34m)\u001b[0m\u001b[0;34m\u001b[0m\u001b[0;34m\u001b[0m\u001b[0m\n",
      "\u001b[0;32m/Library/Frameworks/Python.framework/Versions/3.8/lib/python3.8/site-packages/tqdm/notebook.py\u001b[0m in \u001b[0;36m__iter__\u001b[0;34m(self, *args, **kwargs)\u001b[0m\n\u001b[1;32m    242\u001b[0m     \u001b[0;32mdef\u001b[0m \u001b[0m__iter__\u001b[0m\u001b[0;34m(\u001b[0m\u001b[0mself\u001b[0m\u001b[0;34m,\u001b[0m \u001b[0;34m*\u001b[0m\u001b[0margs\u001b[0m\u001b[0;34m,\u001b[0m \u001b[0;34m**\u001b[0m\u001b[0mkwargs\u001b[0m\u001b[0;34m)\u001b[0m\u001b[0;34m:\u001b[0m\u001b[0;34m\u001b[0m\u001b[0;34m\u001b[0m\u001b[0m\n\u001b[1;32m    243\u001b[0m         \u001b[0;32mtry\u001b[0m\u001b[0;34m:\u001b[0m\u001b[0;34m\u001b[0m\u001b[0;34m\u001b[0m\u001b[0m\n\u001b[0;32m--> 244\u001b[0;31m             \u001b[0;32mfor\u001b[0m \u001b[0mobj\u001b[0m \u001b[0;32min\u001b[0m \u001b[0msuper\u001b[0m\u001b[0;34m(\u001b[0m\u001b[0mtqdm_notebook\u001b[0m\u001b[0;34m,\u001b[0m \u001b[0mself\u001b[0m\u001b[0;34m)\u001b[0m\u001b[0;34m.\u001b[0m\u001b[0m__iter__\u001b[0m\u001b[0;34m(\u001b[0m\u001b[0;34m*\u001b[0m\u001b[0margs\u001b[0m\u001b[0;34m,\u001b[0m \u001b[0;34m**\u001b[0m\u001b[0mkwargs\u001b[0m\u001b[0;34m)\u001b[0m\u001b[0;34m:\u001b[0m\u001b[0;34m\u001b[0m\u001b[0;34m\u001b[0m\u001b[0m\n\u001b[0m\u001b[1;32m    245\u001b[0m                 \u001b[0;31m# return super(tqdm...) will not catch exception\u001b[0m\u001b[0;34m\u001b[0m\u001b[0;34m\u001b[0m\u001b[0;34m\u001b[0m\u001b[0m\n\u001b[1;32m    246\u001b[0m                 \u001b[0;32myield\u001b[0m \u001b[0mobj\u001b[0m\u001b[0;34m\u001b[0m\u001b[0;34m\u001b[0m\u001b[0m\n",
      "\u001b[0;32m/Library/Frameworks/Python.framework/Versions/3.8/lib/python3.8/site-packages/tqdm/std.py\u001b[0m in \u001b[0;36m__iter__\u001b[0;34m(self)\u001b[0m\n\u001b[1;32m   1169\u001b[0m \u001b[0;34m\u001b[0m\u001b[0m\n\u001b[1;32m   1170\u001b[0m         \u001b[0;32mtry\u001b[0m\u001b[0;34m:\u001b[0m\u001b[0;34m\u001b[0m\u001b[0;34m\u001b[0m\u001b[0m\n\u001b[0;32m-> 1171\u001b[0;31m             \u001b[0;32mfor\u001b[0m \u001b[0mobj\u001b[0m \u001b[0;32min\u001b[0m \u001b[0miterable\u001b[0m\u001b[0;34m:\u001b[0m\u001b[0;34m\u001b[0m\u001b[0;34m\u001b[0m\u001b[0m\n\u001b[0m\u001b[1;32m   1172\u001b[0m                 \u001b[0;32myield\u001b[0m \u001b[0mobj\u001b[0m\u001b[0;34m\u001b[0m\u001b[0;34m\u001b[0m\u001b[0m\n\u001b[1;32m   1173\u001b[0m                 \u001b[0;31m# Update and possibly print the progressbar.\u001b[0m\u001b[0;34m\u001b[0m\u001b[0;34m\u001b[0m\u001b[0;34m\u001b[0m\u001b[0m\n",
      "\u001b[0;32m/Library/Frameworks/Python.framework/Versions/3.8/lib/python3.8/codecs.py\u001b[0m in \u001b[0;36mdecode\u001b[0;34m(self, input, final)\u001b[0m\n\u001b[1;32m    317\u001b[0m         \u001b[0;32mraise\u001b[0m \u001b[0mNotImplementedError\u001b[0m\u001b[0;34m\u001b[0m\u001b[0;34m\u001b[0m\u001b[0m\n\u001b[1;32m    318\u001b[0m \u001b[0;34m\u001b[0m\u001b[0m\n\u001b[0;32m--> 319\u001b[0;31m     \u001b[0;32mdef\u001b[0m \u001b[0mdecode\u001b[0m\u001b[0;34m(\u001b[0m\u001b[0mself\u001b[0m\u001b[0;34m,\u001b[0m \u001b[0minput\u001b[0m\u001b[0;34m,\u001b[0m \u001b[0mfinal\u001b[0m\u001b[0;34m=\u001b[0m\u001b[0;32mFalse\u001b[0m\u001b[0;34m)\u001b[0m\u001b[0;34m:\u001b[0m\u001b[0;34m\u001b[0m\u001b[0;34m\u001b[0m\u001b[0m\n\u001b[0m\u001b[1;32m    320\u001b[0m         \u001b[0;31m# decode input (taking the buffer into account)\u001b[0m\u001b[0;34m\u001b[0m\u001b[0;34m\u001b[0m\u001b[0;34m\u001b[0m\u001b[0m\n\u001b[1;32m    321\u001b[0m         \u001b[0mdata\u001b[0m \u001b[0;34m=\u001b[0m \u001b[0mself\u001b[0m\u001b[0;34m.\u001b[0m\u001b[0mbuffer\u001b[0m \u001b[0;34m+\u001b[0m \u001b[0minput\u001b[0m\u001b[0;34m\u001b[0m\u001b[0;34m\u001b[0m\u001b[0m\n",
      "\u001b[0;31mKeyboardInterrupt\u001b[0m: "
     ]
    }
   ],
   "source": [
    "# train_docs, target = get_docs(TRAIN_DATA_FILE)"
   ]
  },
  {
   "cell_type": "code",
   "execution_count": 28,
   "metadata": {},
   "outputs": [
    {
     "data": {
      "application/vnd.jupyter.widget-view+json": {
       "model_id": "bf782a6bf7a544729062dd448a413390",
       "version_major": 2,
       "version_minor": 0
      },
      "text/plain": [
       "HBox(children=(HTML(value=''), FloatProgress(value=1.0, bar_style='info', layout=Layout(width='20px'), max=1.0…"
      ]
     },
     "metadata": {},
     "output_type": "display_data"
    },
    {
     "name": "stdout",
     "output_type": "stream",
     "text": [
      "\n"
     ]
    },
    {
     "data": {
      "application/vnd.jupyter.widget-view+json": {
       "model_id": "d09da839d0d645f7b7caf70d290649c9",
       "version_major": 2,
       "version_minor": 0
      },
      "text/plain": [
       "HBox(children=(HTML(value=''), FloatProgress(value=0.0, max=7044.0), HTML(value='')))"
      ]
     },
     "metadata": {},
     "output_type": "display_data"
    },
    {
     "name": "stdout",
     "output_type": "stream",
     "text": [
      "\n",
      "CPU times: user 5min 52s, sys: 6.67 s, total: 5min 59s\n",
      "Wall time: 6min 2s\n"
     ]
    }
   ],
   "source": [
    "%%time\n",
    "X_train, y_train = get_new_features(TRAIN_DATA_FILE, calc_add_entropy)"
   ]
  },
  {
   "cell_type": "code",
   "execution_count": 29,
   "metadata": {},
   "outputs": [
    {
     "data": {
      "text/plain": [
       "[7.397854761645002, 6.153082669392637]"
      ]
     },
     "execution_count": 29,
     "metadata": {},
     "output_type": "execute_result"
    }
   ],
   "source": [
    "X_train[0]"
   ]
  },
  {
   "cell_type": "code",
   "execution_count": 30,
   "metadata": {},
   "outputs": [],
   "source": [
    "np.save(\"x_train_add_ent.npy\", X_train)\n",
    "np.save(\"y_train_add_ent.npy\", y_train)"
   ]
  },
  {
   "cell_type": "code",
   "execution_count": 31,
   "metadata": {},
   "outputs": [
    {
     "data": {
      "application/vnd.jupyter.widget-view+json": {
       "model_id": "5134e45854d740268de7258b5dd72f4c",
       "version_major": 2,
       "version_minor": 0
      },
      "text/plain": [
       "HBox(children=(HTML(value=''), FloatProgress(value=1.0, bar_style='info', layout=Layout(width='20px'), max=1.0…"
      ]
     },
     "metadata": {},
     "output_type": "display_data"
    },
    {
     "name": "stdout",
     "output_type": "stream",
     "text": [
      "\n"
     ]
    },
    {
     "data": {
      "application/vnd.jupyter.widget-view+json": {
       "model_id": "c2c4a43ca6ff4790ad3f02b960c5f82a",
       "version_major": 2,
       "version_minor": 0
      },
      "text/plain": [
       "HBox(children=(HTML(value=''), FloatProgress(value=0.0, max=16039.0), HTML(value='')))"
      ]
     },
     "metadata": {},
     "output_type": "display_data"
    },
    {
     "name": "stdout",
     "output_type": "stream",
     "text": [
      "\n",
      "CPU times: user 11min 28s, sys: 24.9 s, total: 11min 53s\n",
      "Wall time: 12min 45s\n"
     ]
    }
   ],
   "source": [
    "%%time\n",
    "X_test, y_test = get_new_features(TEST_DATA_FILE, calc_add_entropy)"
   ]
  },
  {
   "cell_type": "code",
   "execution_count": 32,
   "metadata": {},
   "outputs": [],
   "source": [
    "np.save(\"x_test_add_ent.npy\", X_test)\n",
    "np.save(\"y_test_add_ent.npy\", y_test)"
   ]
  },
  {
   "cell_type": "code",
   "execution_count": 33,
   "metadata": {},
   "outputs": [],
   "source": [
    "X_train = np.load('x19_train.npy')\n",
    "y_train = np.load('y19_train.npy')\n",
    "X_test = np.load('x19_test.npy')"
   ]
  },
  {
   "cell_type": "code",
   "execution_count": 34,
   "metadata": {},
   "outputs": [],
   "source": [
    "X_add_train = np.load('x_train_add_ent.npy')\n",
    "X_add_test = np.load('x_test_add_ent.npy')"
   ]
  },
  {
   "cell_type": "code",
   "execution_count": 35,
   "metadata": {},
   "outputs": [],
   "source": [
    "X_train = np.concatenate( (X_train, X_add_train), axis=1 )\n",
    "X_test = np.concatenate( (X_test, X_add_test), axis=1 )"
   ]
  },
  {
   "cell_type": "code",
   "execution_count": 36,
   "metadata": {},
   "outputs": [],
   "source": [
    "np.save('x21_train.npy', X_train)\n",
    "np.save('x21_test.npy', X_test)"
   ]
  },
  {
   "cell_type": "code",
   "execution_count": 44,
   "metadata": {},
   "outputs": [],
   "source": [
    "np.save('y21_train.npy', y_train)"
   ]
  },
  {
   "cell_type": "code",
   "execution_count": 43,
   "metadata": {},
   "outputs": [
    {
     "data": {
      "text/plain": [
       "((7044, 21), (16039, 21), (7044,))"
      ]
     },
     "execution_count": 43,
     "metadata": {},
     "output_type": "execute_result"
    }
   ],
   "source": [
    "X_train.shape, X_test.shape, y_train.shape"
   ]
  },
  {
   "cell_type": "markdown",
   "metadata": {},
   "source": [
    "#### Тестируем"
   ]
  },
  {
   "cell_type": "code",
   "execution_count": 38,
   "metadata": {},
   "outputs": [],
   "source": [
    "def get_features(data_file, calc_features_f):\n",
    "    train_docs, target = get_docs(data_file)\n",
    "    features = calc_features_f(train_docs)\n",
    "    \n",
    "    return features, target"
   ]
  },
  {
   "cell_type": "code",
   "execution_count": 14,
   "metadata": {},
   "outputs": [
    {
     "data": {
      "application/vnd.jupyter.widget-view+json": {
       "model_id": "f4c1e2408dd04723b345bfd9f82e4f27",
       "version_major": 2,
       "version_minor": 0
      },
      "text/plain": [
       "HBox(children=(HTML(value=''), FloatProgress(value=1.0, bar_style='info', layout=Layout(width='20px'), max=1.0…"
      ]
     },
     "metadata": {},
     "output_type": "display_data"
    },
    {
     "name": "stdout",
     "output_type": "stream",
     "text": [
      "\n"
     ]
    },
    {
     "data": {
      "application/vnd.jupyter.widget-view+json": {
       "model_id": "eee78edb8ab0416db24bccd707452462",
       "version_major": 2,
       "version_minor": 0
      },
      "text/plain": [
       "HBox(children=(HTML(value=''), FloatProgress(value=0.0, max=7044.0), HTML(value='')))"
      ]
     },
     "metadata": {},
     "output_type": "display_data"
    },
    {
     "name": "stderr",
     "output_type": "stream",
     "text": [
      "00:37:14 INFO:Loading dictionaries from /Library/Frameworks/Python.framework/Versions/3.8/lib/python3.8/site-packages/pymorphy2_dicts_ru/data\n",
      "00:37:14 INFO:format: 2.4, revision: 417127, updated: 2020-10-11T15:05:51.070345\n"
     ]
    },
    {
     "name": "stdout",
     "output_type": "stream",
     "text": [
      "\n",
      "get vectorizer...\n",
      "get idfs...\n",
      "create nmf...\n",
      "start tf-idf vectorize...\n",
      "start nmf reduce...\n",
      "get sum idfs...\n",
      "start concatenate...\n",
      "CPU times: user 52min 57s, sys: 1min 25s, total: 54min 22s\n",
      "Wall time: 59min 14s\n"
     ]
    }
   ],
   "source": [
    "%%time\n",
    "X_train, y_train = get_features(TRAIN_DATA_FILE, calc_features)"
   ]
  },
  {
   "cell_type": "code",
   "execution_count": null,
   "metadata": {},
   "outputs": [],
   "source": []
  },
  {
   "cell_type": "code",
   "execution_count": 22,
   "metadata": {},
   "outputs": [],
   "source": [
    "# np.save(\"x_train.npy\", X_train)\n",
    "# np.save(\"y_train.npy\", y_train)"
   ]
  },
  {
   "cell_type": "code",
   "execution_count": 23,
   "metadata": {},
   "outputs": [],
   "source": [
    "# X_train = np.array(X_train)\n",
    "# y_train = np.array(y_train)"
   ]
  },
  {
   "cell_type": "code",
   "execution_count": 26,
   "metadata": {},
   "outputs": [],
   "source": [
    "X_train = np.load(\"x_train.npy\")\n",
    "y_train = np.load(\"y_train.npy\")"
   ]
  },
  {
   "cell_type": "code",
   "execution_count": 27,
   "metadata": {},
   "outputs": [
    {
     "data": {
      "text/plain": [
       "((7044, 10), (7044,))"
      ]
     },
     "execution_count": 27,
     "metadata": {},
     "output_type": "execute_result"
    }
   ],
   "source": [
    "X_train.shape, y_train.shape"
   ]
  },
  {
   "cell_type": "code",
   "execution_count": 18,
   "metadata": {},
   "outputs": [
    {
     "data": {
      "application/vnd.jupyter.widget-view+json": {
       "model_id": "fde692eb7f3c4a00969e61aa199603f3",
       "version_major": 2,
       "version_minor": 0
      },
      "text/plain": [
       "HBox(children=(HTML(value=''), FloatProgress(value=1.0, bar_style='info', layout=Layout(width='20px'), max=1.0…"
      ]
     },
     "metadata": {},
     "output_type": "display_data"
    },
    {
     "name": "stdout",
     "output_type": "stream",
     "text": [
      "\n"
     ]
    },
    {
     "data": {
      "application/vnd.jupyter.widget-view+json": {
       "model_id": "569f668ea4984e928a23c720197afe2c",
       "version_major": 2,
       "version_minor": 0
      },
      "text/plain": [
       "HBox(children=(HTML(value=''), FloatProgress(value=0.0, max=16039.0), HTML(value='')))"
      ]
     },
     "metadata": {},
     "output_type": "display_data"
    },
    {
     "name": "stdout",
     "output_type": "stream",
     "text": [
      "\n"
     ]
    },
    {
     "ename": "KeyboardInterrupt",
     "evalue": "",
     "output_type": "error",
     "traceback": [
      "\u001b[0;31m---------------------------------------------------------------------------\u001b[0m",
      "\u001b[0;31mKeyboardInterrupt\u001b[0m                         Traceback (most recent call last)",
      "\u001b[0;32m<timed exec>\u001b[0m in \u001b[0;36m<module>\u001b[0;34m\u001b[0m\n",
      "\u001b[0;32m<ipython-input-15-9482889c197f>\u001b[0m in \u001b[0;36mget_features\u001b[0;34m(data_file, calc_features_f)\u001b[0m\n\u001b[1;32m      1\u001b[0m \u001b[0;32mdef\u001b[0m \u001b[0mget_features\u001b[0m\u001b[0;34m(\u001b[0m\u001b[0mdata_file\u001b[0m\u001b[0;34m,\u001b[0m \u001b[0mcalc_features_f\u001b[0m\u001b[0;34m)\u001b[0m\u001b[0;34m:\u001b[0m\u001b[0;34m\u001b[0m\u001b[0;34m\u001b[0m\u001b[0m\n\u001b[1;32m      2\u001b[0m     \u001b[0mtrain_docs\u001b[0m\u001b[0;34m,\u001b[0m \u001b[0mtarget\u001b[0m \u001b[0;34m=\u001b[0m \u001b[0mget_docs\u001b[0m\u001b[0;34m(\u001b[0m\u001b[0mdata_file\u001b[0m\u001b[0;34m)\u001b[0m\u001b[0;34m\u001b[0m\u001b[0;34m\u001b[0m\u001b[0m\n\u001b[0;32m----> 3\u001b[0;31m     \u001b[0mfeatures\u001b[0m \u001b[0;34m=\u001b[0m \u001b[0mcalc_features_f\u001b[0m\u001b[0;34m(\u001b[0m\u001b[0mtrain_docs\u001b[0m\u001b[0;34m)\u001b[0m\u001b[0;34m\u001b[0m\u001b[0;34m\u001b[0m\u001b[0m\n\u001b[0m\u001b[1;32m      4\u001b[0m \u001b[0;34m\u001b[0m\u001b[0m\n\u001b[1;32m      5\u001b[0m     \u001b[0;32mreturn\u001b[0m \u001b[0mfeatures\u001b[0m\u001b[0;34m,\u001b[0m \u001b[0mtarget\u001b[0m\u001b[0;34m\u001b[0m\u001b[0;34m\u001b[0m\u001b[0m\n",
      "\u001b[0;32m<ipython-input-11-06d23e17fc89>\u001b[0m in \u001b[0;36mcalc_features\u001b[0;34m(docs)\u001b[0m\n\u001b[1;32m     12\u001b[0m         \u001b[0manchor_words_num\u001b[0m \u001b[0;34m=\u001b[0m \u001b[0mlen\u001b[0m\u001b[0;34m(\u001b[0m\u001b[0manchors_words\u001b[0m\u001b[0;34m)\u001b[0m\u001b[0;34m\u001b[0m\u001b[0;34m\u001b[0m\u001b[0m\n\u001b[1;32m     13\u001b[0m         \u001b[0mcompression_level\u001b[0m \u001b[0;34m=\u001b[0m \u001b[0mget_compression_level\u001b[0m\u001b[0;34m(\u001b[0m \u001b[0;34m' '\u001b[0m\u001b[0;34m.\u001b[0m\u001b[0mjoin\u001b[0m\u001b[0;34m(\u001b[0m \u001b[0mlist\u001b[0m\u001b[0;34m(\u001b[0m \u001b[0mhtml2word\u001b[0m\u001b[0;34m(\u001b[0m\u001b[0mhtml_data\u001b[0m\u001b[0;34m)\u001b[0m\u001b[0;34m)\u001b[0m\u001b[0;34m)\u001b[0m \u001b[0;34m)\u001b[0m\u001b[0;34m\u001b[0m\u001b[0;34m\u001b[0m\u001b[0m\n\u001b[0;32m---> 14\u001b[0;31m         \u001b[0mscripts_ratio\u001b[0m \u001b[0;34m=\u001b[0m \u001b[0mget_script_ratio\u001b[0m\u001b[0;34m(\u001b[0m\u001b[0mhtml_data\u001b[0m\u001b[0;34m)\u001b[0m\u001b[0;34m\u001b[0m\u001b[0;34m\u001b[0m\u001b[0m\n\u001b[0m\u001b[1;32m     15\u001b[0m \u001b[0;34m\u001b[0m\u001b[0m\n\u001b[1;32m     16\u001b[0m         res.append( [len(words), avg_word_len, title_words_num, anchor_words_num,\n",
      "\u001b[0;32m<ipython-input-10-750076e91934>\u001b[0m in \u001b[0;36mget_script_ratio\u001b[0;34m(html_data)\u001b[0m\n\u001b[1;32m     41\u001b[0m \u001b[0;34m\u001b[0m\u001b[0m\n\u001b[1;32m     42\u001b[0m \u001b[0;32mdef\u001b[0m \u001b[0mget_script_ratio\u001b[0m\u001b[0;34m(\u001b[0m\u001b[0mhtml_data\u001b[0m\u001b[0;34m)\u001b[0m\u001b[0;34m:\u001b[0m \u001b[0;31m# useless\u001b[0m\u001b[0;34m\u001b[0m\u001b[0;34m\u001b[0m\u001b[0m\n\u001b[0;32m---> 43\u001b[0;31m     \u001b[0;32mreturn\u001b[0m \u001b[0mhtml2text_bs_scripts_count\u001b[0m\u001b[0;34m(\u001b[0m\u001b[0mhtml_data\u001b[0m\u001b[0;34m)\u001b[0m \u001b[0;34m/\u001b[0m \u001b[0mhtml2text_bs_tags_count\u001b[0m\u001b[0;34m(\u001b[0m\u001b[0mhtml_data\u001b[0m\u001b[0;34m)\u001b[0m\u001b[0;34m\u001b[0m\u001b[0;34m\u001b[0m\u001b[0m\n\u001b[0m\u001b[1;32m     44\u001b[0m     \u001b[0;31m#return html2text_bs_scripts_count(html_data)\u001b[0m\u001b[0;34m\u001b[0m\u001b[0;34m\u001b[0m\u001b[0;34m\u001b[0m\u001b[0m\n\u001b[1;32m     45\u001b[0m \u001b[0;34m\u001b[0m\u001b[0m\n",
      "\u001b[0;32m<ipython-input-4-48add3af16de>\u001b[0m in \u001b[0;36mhtml2text_bs_tags_count\u001b[0;34m(raw_html)\u001b[0m\n\u001b[1;32m     56\u001b[0m     \u001b[0mТут\u001b[0m \u001b[0mпроизводится\u001b[0m \u001b[0mизвлечения\u001b[0m \u001b[0mиз\u001b[0m \u001b[0mhtml\u001b[0m \u001b[0;34m-\u001b[0m \u001b[0mtitle\u001b[0m\u001b[0;34m\u001b[0m\u001b[0;34m\u001b[0m\u001b[0m\n\u001b[1;32m     57\u001b[0m     \"\"\"\n\u001b[0;32m---> 58\u001b[0;31m     \u001b[0msoup\u001b[0m \u001b[0;34m=\u001b[0m \u001b[0mBeautifulSoup\u001b[0m\u001b[0;34m(\u001b[0m\u001b[0mraw_html\u001b[0m\u001b[0;34m,\u001b[0m \u001b[0;34m\"html.parser\"\u001b[0m\u001b[0;34m)\u001b[0m\u001b[0;34m\u001b[0m\u001b[0;34m\u001b[0m\u001b[0m\n\u001b[0m\u001b[1;32m     59\u001b[0m     \u001b[0;32mreturn\u001b[0m \u001b[0mlen\u001b[0m\u001b[0;34m(\u001b[0m\u001b[0;34m[\u001b[0m\u001b[0mtag\u001b[0m\u001b[0;34m.\u001b[0m\u001b[0mname\u001b[0m \u001b[0;32mfor\u001b[0m \u001b[0mtag\u001b[0m \u001b[0;32min\u001b[0m \u001b[0msoup\u001b[0m\u001b[0;34m.\u001b[0m\u001b[0mfindAll\u001b[0m\u001b[0;34m(\u001b[0m\u001b[0;34m)\u001b[0m\u001b[0;34m]\u001b[0m\u001b[0;34m)\u001b[0m\u001b[0;34m\u001b[0m\u001b[0;34m\u001b[0m\u001b[0m\n",
      "\u001b[0;32m/Library/Frameworks/Python.framework/Versions/3.8/lib/python3.8/site-packages/bs4/__init__.py\u001b[0m in \u001b[0;36m__init__\u001b[0;34m(self, markup, features, builder, parse_only, from_encoding, exclude_encodings, element_classes, **kwargs)\u001b[0m\n\u001b[1;32m    346\u001b[0m             \u001b[0mself\u001b[0m\u001b[0;34m.\u001b[0m\u001b[0mreset\u001b[0m\u001b[0;34m(\u001b[0m\u001b[0;34m)\u001b[0m\u001b[0;34m\u001b[0m\u001b[0;34m\u001b[0m\u001b[0m\n\u001b[1;32m    347\u001b[0m             \u001b[0;32mtry\u001b[0m\u001b[0;34m:\u001b[0m\u001b[0;34m\u001b[0m\u001b[0;34m\u001b[0m\u001b[0m\n\u001b[0;32m--> 348\u001b[0;31m                 \u001b[0mself\u001b[0m\u001b[0;34m.\u001b[0m\u001b[0m_feed\u001b[0m\u001b[0;34m(\u001b[0m\u001b[0;34m)\u001b[0m\u001b[0;34m\u001b[0m\u001b[0;34m\u001b[0m\u001b[0m\n\u001b[0m\u001b[1;32m    349\u001b[0m                 \u001b[0msuccess\u001b[0m \u001b[0;34m=\u001b[0m \u001b[0;32mTrue\u001b[0m\u001b[0;34m\u001b[0m\u001b[0;34m\u001b[0m\u001b[0m\n\u001b[1;32m    350\u001b[0m                 \u001b[0;32mbreak\u001b[0m\u001b[0;34m\u001b[0m\u001b[0;34m\u001b[0m\u001b[0m\n",
      "\u001b[0;32m/Library/Frameworks/Python.framework/Versions/3.8/lib/python3.8/site-packages/bs4/__init__.py\u001b[0m in \u001b[0;36m_feed\u001b[0;34m(self)\u001b[0m\n\u001b[1;32m    432\u001b[0m         \u001b[0mself\u001b[0m\u001b[0;34m.\u001b[0m\u001b[0mbuilder\u001b[0m\u001b[0;34m.\u001b[0m\u001b[0mreset\u001b[0m\u001b[0;34m(\u001b[0m\u001b[0;34m)\u001b[0m\u001b[0;34m\u001b[0m\u001b[0;34m\u001b[0m\u001b[0m\n\u001b[1;32m    433\u001b[0m \u001b[0;34m\u001b[0m\u001b[0m\n\u001b[0;32m--> 434\u001b[0;31m         \u001b[0mself\u001b[0m\u001b[0;34m.\u001b[0m\u001b[0mbuilder\u001b[0m\u001b[0;34m.\u001b[0m\u001b[0mfeed\u001b[0m\u001b[0;34m(\u001b[0m\u001b[0mself\u001b[0m\u001b[0;34m.\u001b[0m\u001b[0mmarkup\u001b[0m\u001b[0;34m)\u001b[0m\u001b[0;34m\u001b[0m\u001b[0;34m\u001b[0m\u001b[0m\n\u001b[0m\u001b[1;32m    435\u001b[0m         \u001b[0;31m# Close out any unfinished strings and close all the open tags.\u001b[0m\u001b[0;34m\u001b[0m\u001b[0;34m\u001b[0m\u001b[0;34m\u001b[0m\u001b[0m\n\u001b[1;32m    436\u001b[0m         \u001b[0mself\u001b[0m\u001b[0;34m.\u001b[0m\u001b[0mendData\u001b[0m\u001b[0;34m(\u001b[0m\u001b[0;34m)\u001b[0m\u001b[0;34m\u001b[0m\u001b[0;34m\u001b[0m\u001b[0m\n",
      "\u001b[0;32m/Library/Frameworks/Python.framework/Versions/3.8/lib/python3.8/site-packages/bs4/builder/_htmlparser.py\u001b[0m in \u001b[0;36mfeed\u001b[0;34m(self, markup)\u001b[0m\n\u001b[1;32m    375\u001b[0m         \u001b[0mparser\u001b[0m\u001b[0;34m.\u001b[0m\u001b[0msoup\u001b[0m \u001b[0;34m=\u001b[0m \u001b[0mself\u001b[0m\u001b[0;34m.\u001b[0m\u001b[0msoup\u001b[0m\u001b[0;34m\u001b[0m\u001b[0;34m\u001b[0m\u001b[0m\n\u001b[1;32m    376\u001b[0m         \u001b[0;32mtry\u001b[0m\u001b[0;34m:\u001b[0m\u001b[0;34m\u001b[0m\u001b[0;34m\u001b[0m\u001b[0m\n\u001b[0;32m--> 377\u001b[0;31m             \u001b[0mparser\u001b[0m\u001b[0;34m.\u001b[0m\u001b[0mfeed\u001b[0m\u001b[0;34m(\u001b[0m\u001b[0mmarkup\u001b[0m\u001b[0;34m)\u001b[0m\u001b[0;34m\u001b[0m\u001b[0;34m\u001b[0m\u001b[0m\n\u001b[0m\u001b[1;32m    378\u001b[0m             \u001b[0mparser\u001b[0m\u001b[0;34m.\u001b[0m\u001b[0mclose\u001b[0m\u001b[0;34m(\u001b[0m\u001b[0;34m)\u001b[0m\u001b[0;34m\u001b[0m\u001b[0;34m\u001b[0m\u001b[0m\n\u001b[1;32m    379\u001b[0m         \u001b[0;32mexcept\u001b[0m \u001b[0mHTMLParseError\u001b[0m \u001b[0;32mas\u001b[0m \u001b[0me\u001b[0m\u001b[0;34m:\u001b[0m\u001b[0;34m\u001b[0m\u001b[0;34m\u001b[0m\u001b[0m\n",
      "\u001b[0;32m/Library/Frameworks/Python.framework/Versions/3.8/lib/python3.8/html/parser.py\u001b[0m in \u001b[0;36mfeed\u001b[0;34m(self, data)\u001b[0m\n\u001b[1;32m    109\u001b[0m         \"\"\"\n\u001b[1;32m    110\u001b[0m         \u001b[0mself\u001b[0m\u001b[0;34m.\u001b[0m\u001b[0mrawdata\u001b[0m \u001b[0;34m=\u001b[0m \u001b[0mself\u001b[0m\u001b[0;34m.\u001b[0m\u001b[0mrawdata\u001b[0m \u001b[0;34m+\u001b[0m \u001b[0mdata\u001b[0m\u001b[0;34m\u001b[0m\u001b[0;34m\u001b[0m\u001b[0m\n\u001b[0;32m--> 111\u001b[0;31m         \u001b[0mself\u001b[0m\u001b[0;34m.\u001b[0m\u001b[0mgoahead\u001b[0m\u001b[0;34m(\u001b[0m\u001b[0;36m0\u001b[0m\u001b[0;34m)\u001b[0m\u001b[0;34m\u001b[0m\u001b[0;34m\u001b[0m\u001b[0m\n\u001b[0m\u001b[1;32m    112\u001b[0m \u001b[0;34m\u001b[0m\u001b[0m\n\u001b[1;32m    113\u001b[0m     \u001b[0;32mdef\u001b[0m \u001b[0mclose\u001b[0m\u001b[0;34m(\u001b[0m\u001b[0mself\u001b[0m\u001b[0;34m)\u001b[0m\u001b[0;34m:\u001b[0m\u001b[0;34m\u001b[0m\u001b[0;34m\u001b[0m\u001b[0m\n",
      "\u001b[0;32m/Library/Frameworks/Python.framework/Versions/3.8/lib/python3.8/html/parser.py\u001b[0m in \u001b[0;36mgoahead\u001b[0;34m(self, end)\u001b[0m\n\u001b[1;32m    169\u001b[0m             \u001b[0;32mif\u001b[0m \u001b[0mstartswith\u001b[0m\u001b[0;34m(\u001b[0m\u001b[0;34m'<'\u001b[0m\u001b[0;34m,\u001b[0m \u001b[0mi\u001b[0m\u001b[0;34m)\u001b[0m\u001b[0;34m:\u001b[0m\u001b[0;34m\u001b[0m\u001b[0;34m\u001b[0m\u001b[0m\n\u001b[1;32m    170\u001b[0m                 \u001b[0;32mif\u001b[0m \u001b[0mstarttagopen\u001b[0m\u001b[0;34m.\u001b[0m\u001b[0mmatch\u001b[0m\u001b[0;34m(\u001b[0m\u001b[0mrawdata\u001b[0m\u001b[0;34m,\u001b[0m \u001b[0mi\u001b[0m\u001b[0;34m)\u001b[0m\u001b[0;34m:\u001b[0m \u001b[0;31m# < + letter\u001b[0m\u001b[0;34m\u001b[0m\u001b[0;34m\u001b[0m\u001b[0m\n\u001b[0;32m--> 171\u001b[0;31m                     \u001b[0mk\u001b[0m \u001b[0;34m=\u001b[0m \u001b[0mself\u001b[0m\u001b[0;34m.\u001b[0m\u001b[0mparse_starttag\u001b[0m\u001b[0;34m(\u001b[0m\u001b[0mi\u001b[0m\u001b[0;34m)\u001b[0m\u001b[0;34m\u001b[0m\u001b[0;34m\u001b[0m\u001b[0m\n\u001b[0m\u001b[1;32m    172\u001b[0m                 \u001b[0;32melif\u001b[0m \u001b[0mstartswith\u001b[0m\u001b[0;34m(\u001b[0m\u001b[0;34m\"</\"\u001b[0m\u001b[0;34m,\u001b[0m \u001b[0mi\u001b[0m\u001b[0;34m)\u001b[0m\u001b[0;34m:\u001b[0m\u001b[0;34m\u001b[0m\u001b[0;34m\u001b[0m\u001b[0m\n\u001b[1;32m    173\u001b[0m                     \u001b[0mk\u001b[0m \u001b[0;34m=\u001b[0m \u001b[0mself\u001b[0m\u001b[0;34m.\u001b[0m\u001b[0mparse_endtag\u001b[0m\u001b[0;34m(\u001b[0m\u001b[0mi\u001b[0m\u001b[0;34m)\u001b[0m\u001b[0;34m\u001b[0m\u001b[0;34m\u001b[0m\u001b[0m\n",
      "\u001b[0;32m/Library/Frameworks/Python.framework/Versions/3.8/lib/python3.8/html/parser.py\u001b[0m in \u001b[0;36mparse_starttag\u001b[0;34m(self, i)\u001b[0m\n\u001b[1;32m    343\u001b[0m             \u001b[0mself\u001b[0m\u001b[0;34m.\u001b[0m\u001b[0mhandle_startendtag\u001b[0m\u001b[0;34m(\u001b[0m\u001b[0mtag\u001b[0m\u001b[0;34m,\u001b[0m \u001b[0mattrs\u001b[0m\u001b[0;34m)\u001b[0m\u001b[0;34m\u001b[0m\u001b[0;34m\u001b[0m\u001b[0m\n\u001b[1;32m    344\u001b[0m         \u001b[0;32melse\u001b[0m\u001b[0;34m:\u001b[0m\u001b[0;34m\u001b[0m\u001b[0;34m\u001b[0m\u001b[0m\n\u001b[0;32m--> 345\u001b[0;31m             \u001b[0mself\u001b[0m\u001b[0;34m.\u001b[0m\u001b[0mhandle_starttag\u001b[0m\u001b[0;34m(\u001b[0m\u001b[0mtag\u001b[0m\u001b[0;34m,\u001b[0m \u001b[0mattrs\u001b[0m\u001b[0;34m)\u001b[0m\u001b[0;34m\u001b[0m\u001b[0;34m\u001b[0m\u001b[0m\n\u001b[0m\u001b[1;32m    346\u001b[0m             \u001b[0;32mif\u001b[0m \u001b[0mtag\u001b[0m \u001b[0;32min\u001b[0m \u001b[0mself\u001b[0m\u001b[0;34m.\u001b[0m\u001b[0mCDATA_CONTENT_ELEMENTS\u001b[0m\u001b[0;34m:\u001b[0m\u001b[0;34m\u001b[0m\u001b[0;34m\u001b[0m\u001b[0m\n\u001b[1;32m    347\u001b[0m                 \u001b[0mself\u001b[0m\u001b[0;34m.\u001b[0m\u001b[0mset_cdata_mode\u001b[0m\u001b[0;34m(\u001b[0m\u001b[0mtag\u001b[0m\u001b[0;34m)\u001b[0m\u001b[0;34m\u001b[0m\u001b[0;34m\u001b[0m\u001b[0m\n",
      "\u001b[0;32m/Library/Frameworks/Python.framework/Versions/3.8/lib/python3.8/site-packages/bs4/builder/_htmlparser.py\u001b[0m in \u001b[0;36mhandle_starttag\u001b[0;34m(self, name, attrs, handle_empty_element)\u001b[0m\n\u001b[1;32m    149\u001b[0m         \u001b[0;31m#print(\"START\", name)\u001b[0m\u001b[0;34m\u001b[0m\u001b[0;34m\u001b[0m\u001b[0;34m\u001b[0m\u001b[0m\n\u001b[1;32m    150\u001b[0m         \u001b[0msourceline\u001b[0m\u001b[0;34m,\u001b[0m \u001b[0msourcepos\u001b[0m \u001b[0;34m=\u001b[0m \u001b[0mself\u001b[0m\u001b[0;34m.\u001b[0m\u001b[0mgetpos\u001b[0m\u001b[0;34m(\u001b[0m\u001b[0;34m)\u001b[0m\u001b[0;34m\u001b[0m\u001b[0;34m\u001b[0m\u001b[0m\n\u001b[0;32m--> 151\u001b[0;31m         tag = self.soup.handle_starttag(\n\u001b[0m\u001b[1;32m    152\u001b[0m             \u001b[0mname\u001b[0m\u001b[0;34m,\u001b[0m \u001b[0;32mNone\u001b[0m\u001b[0;34m,\u001b[0m \u001b[0;32mNone\u001b[0m\u001b[0;34m,\u001b[0m \u001b[0mattr_dict\u001b[0m\u001b[0;34m,\u001b[0m \u001b[0msourceline\u001b[0m\u001b[0;34m=\u001b[0m\u001b[0msourceline\u001b[0m\u001b[0;34m,\u001b[0m\u001b[0;34m\u001b[0m\u001b[0;34m\u001b[0m\u001b[0m\n\u001b[1;32m    153\u001b[0m             \u001b[0msourcepos\u001b[0m\u001b[0;34m=\u001b[0m\u001b[0msourcepos\u001b[0m\u001b[0;34m\u001b[0m\u001b[0;34m\u001b[0m\u001b[0m\n",
      "\u001b[0;32m/Library/Frameworks/Python.framework/Versions/3.8/lib/python3.8/site-packages/bs4/__init__.py\u001b[0m in \u001b[0;36mhandle_starttag\u001b[0;34m(self, name, namespace, nsprefix, attrs, sourceline, sourcepos)\u001b[0m\n\u001b[1;32m    711\u001b[0m             \u001b[0mself\u001b[0m\u001b[0;34m.\u001b[0m\u001b[0m_most_recent_element\u001b[0m\u001b[0;34m.\u001b[0m\u001b[0mnext_element\u001b[0m \u001b[0;34m=\u001b[0m \u001b[0mtag\u001b[0m\u001b[0;34m\u001b[0m\u001b[0;34m\u001b[0m\u001b[0m\n\u001b[1;32m    712\u001b[0m         \u001b[0mself\u001b[0m\u001b[0;34m.\u001b[0m\u001b[0m_most_recent_element\u001b[0m \u001b[0;34m=\u001b[0m \u001b[0mtag\u001b[0m\u001b[0;34m\u001b[0m\u001b[0;34m\u001b[0m\u001b[0m\n\u001b[0;32m--> 713\u001b[0;31m         \u001b[0mself\u001b[0m\u001b[0;34m.\u001b[0m\u001b[0mpushTag\u001b[0m\u001b[0;34m(\u001b[0m\u001b[0mtag\u001b[0m\u001b[0;34m)\u001b[0m\u001b[0;34m\u001b[0m\u001b[0;34m\u001b[0m\u001b[0m\n\u001b[0m\u001b[1;32m    714\u001b[0m         \u001b[0;32mreturn\u001b[0m \u001b[0mtag\u001b[0m\u001b[0;34m\u001b[0m\u001b[0;34m\u001b[0m\u001b[0m\n\u001b[1;32m    715\u001b[0m \u001b[0;34m\u001b[0m\u001b[0m\n",
      "\u001b[0;32m/Library/Frameworks/Python.framework/Versions/3.8/lib/python3.8/site-packages/bs4/__init__.py\u001b[0m in \u001b[0;36mpushTag\u001b[0;34m(self, tag)\u001b[0m\n\u001b[1;32m    530\u001b[0m         \u001b[0;32mif\u001b[0m \u001b[0mself\u001b[0m\u001b[0;34m.\u001b[0m\u001b[0mcurrentTag\u001b[0m \u001b[0;32mis\u001b[0m \u001b[0;32mnot\u001b[0m \u001b[0;32mNone\u001b[0m\u001b[0;34m:\u001b[0m\u001b[0;34m\u001b[0m\u001b[0;34m\u001b[0m\u001b[0m\n\u001b[1;32m    531\u001b[0m             \u001b[0mself\u001b[0m\u001b[0;34m.\u001b[0m\u001b[0mcurrentTag\u001b[0m\u001b[0;34m.\u001b[0m\u001b[0mcontents\u001b[0m\u001b[0;34m.\u001b[0m\u001b[0mappend\u001b[0m\u001b[0;34m(\u001b[0m\u001b[0mtag\u001b[0m\u001b[0;34m)\u001b[0m\u001b[0;34m\u001b[0m\u001b[0;34m\u001b[0m\u001b[0m\n\u001b[0;32m--> 532\u001b[0;31m         \u001b[0mself\u001b[0m\u001b[0;34m.\u001b[0m\u001b[0mtagStack\u001b[0m\u001b[0;34m.\u001b[0m\u001b[0mappend\u001b[0m\u001b[0;34m(\u001b[0m\u001b[0mtag\u001b[0m\u001b[0;34m)\u001b[0m\u001b[0;34m\u001b[0m\u001b[0;34m\u001b[0m\u001b[0m\n\u001b[0m\u001b[1;32m    533\u001b[0m         \u001b[0mself\u001b[0m\u001b[0;34m.\u001b[0m\u001b[0mcurrentTag\u001b[0m \u001b[0;34m=\u001b[0m \u001b[0mself\u001b[0m\u001b[0;34m.\u001b[0m\u001b[0mtagStack\u001b[0m\u001b[0;34m[\u001b[0m\u001b[0;34m-\u001b[0m\u001b[0;36m1\u001b[0m\u001b[0;34m]\u001b[0m\u001b[0;34m\u001b[0m\u001b[0;34m\u001b[0m\u001b[0m\n\u001b[1;32m    534\u001b[0m         \u001b[0;32mif\u001b[0m \u001b[0mtag\u001b[0m\u001b[0;34m.\u001b[0m\u001b[0mname\u001b[0m \u001b[0;34m!=\u001b[0m \u001b[0mself\u001b[0m\u001b[0;34m.\u001b[0m\u001b[0mROOT_TAG_NAME\u001b[0m\u001b[0;34m:\u001b[0m\u001b[0;34m\u001b[0m\u001b[0;34m\u001b[0m\u001b[0m\n",
      "\u001b[0;31mKeyboardInterrupt\u001b[0m: "
     ]
    }
   ],
   "source": [
    "%%time\n",
    "X_test, y_test = get_features(TEST_DATA_FILE, calc_features)"
   ]
  },
  {
   "cell_type": "code",
   "execution_count": 19,
   "metadata": {},
   "outputs": [
    {
     "ename": "NameError",
     "evalue": "name 'X_test' is not defined",
     "output_type": "error",
     "traceback": [
      "\u001b[0;31m---------------------------------------------------------------------------\u001b[0m",
      "\u001b[0;31mNameError\u001b[0m                                 Traceback (most recent call last)",
      "\u001b[0;32m<ipython-input-19-233b0ec1e079>\u001b[0m in \u001b[0;36m<module>\u001b[0;34m\u001b[0m\n\u001b[0;32m----> 1\u001b[0;31m \u001b[0mnp\u001b[0m\u001b[0;34m.\u001b[0m\u001b[0msave\u001b[0m\u001b[0;34m(\u001b[0m\u001b[0;34m\"x_test.npy\"\u001b[0m\u001b[0;34m,\u001b[0m \u001b[0mX_test\u001b[0m\u001b[0;34m)\u001b[0m\u001b[0;34m\u001b[0m\u001b[0;34m\u001b[0m\u001b[0m\n\u001b[0m\u001b[1;32m      2\u001b[0m \u001b[0mnp\u001b[0m\u001b[0;34m.\u001b[0m\u001b[0msave\u001b[0m\u001b[0;34m(\u001b[0m\u001b[0;34m\"y_test.npy\"\u001b[0m\u001b[0;34m,\u001b[0m \u001b[0my_test\u001b[0m\u001b[0;34m)\u001b[0m\u001b[0;34m\u001b[0m\u001b[0;34m\u001b[0m\u001b[0m\n",
      "\u001b[0;31mNameError\u001b[0m: name 'X_test' is not defined"
     ]
    }
   ],
   "source": [
    "np.save(\"x_test.npy\", X_test)\n",
    "np.save(\"y_test.npy\", y_test)"
   ]
  },
  {
   "cell_type": "markdown",
   "metadata": {},
   "source": [
    "** Обрабатываем входной файл **\n",
    "<br>\n",
    "Формат - поля разделенные табуляциями\n",
    "<br>\n",
    "0 - идентификатор документа\n",
    "<br>\n",
    "1 - метка класса 0 - не спам, 1 - спам\n",
    "<br>\n",
    "2 - урл документа\n",
    "<br>\n",
    "3 - документ в кодировке base64\n",
    "\n",
    "Выходной формат - массив кортежей вида\n",
    "(doc_id, is_spam, url, html_data)"
   ]
  },
  {
   "cell_type": "code",
   "execution_count": 165,
   "metadata": {},
   "outputs": [],
   "source": [
    "X_train = np.asarray(X_train)\n",
    "y_train = np.asarray(y_train)\n",
    "X_test = np.asarray(X_test)"
   ]
  },
  {
   "cell_type": "code",
   "execution_count": 168,
   "metadata": {},
   "outputs": [],
   "source": [
    "ftr_nums = [0,1,3,4,6,7,8,10]"
   ]
  },
  {
   "cell_type": "code",
   "execution_count": 170,
   "metadata": {},
   "outputs": [],
   "source": [
    "X_train = X_train[:, ftr_nums]\n",
    "X_test = X_test[:, ftr_nums]"
   ]
  },
  {
   "cell_type": "code",
   "execution_count": 172,
   "metadata": {},
   "outputs": [],
   "source": [
    "np.save(\"x_train_new.npy\", X_train)\n",
    "np.save(\"y_train_new.npy\", y_train)\n",
    "np.save(\"x_test_new.npy\", X_test)"
   ]
  },
  {
   "cell_type": "code",
   "execution_count": 26,
   "metadata": {},
   "outputs": [],
   "source": [
    "xxx = np.load(\"x_train.npy\")\n",
    "yyy = np.load(\"y_train.npy\")"
   ]
  },
  {
   "cell_type": "code",
   "execution_count": 28,
   "metadata": {},
   "outputs": [
    {
     "data": {
      "text/plain": [
       "(7044,)"
      ]
     },
     "execution_count": 28,
     "metadata": {},
     "output_type": "execute_result"
    }
   ],
   "source": [
    "yyy.shape"
   ]
  },
  {
   "cell_type": "code",
   "execution_count": null,
   "metadata": {},
   "outputs": [],
   "source": []
  },
  {
   "cell_type": "code",
   "execution_count": 174,
   "metadata": {},
   "outputs": [],
   "source": [
    "X_train = np.concatenate( (np.load(\"x11_train.npy\"), np.load(\"x_train_new.npy\")), axis=1 )\n",
    "X_test = np.concatenate( (np.load(\"x11_test.npy\"), np.load(\"x_test_new.npy\")), axis=1 )\n",
    "y_train = np.load(\"y11_train.npy\")"
   ]
  },
  {
   "cell_type": "code",
   "execution_count": 176,
   "metadata": {},
   "outputs": [
    {
     "data": {
      "text/plain": [
       "((7044, 19), (16039, 19))"
      ]
     },
     "execution_count": 176,
     "metadata": {},
     "output_type": "execute_result"
    }
   ],
   "source": [
    "X_train.shape, X_test.shape"
   ]
  },
  {
   "cell_type": "code",
   "execution_count": 178,
   "metadata": {},
   "outputs": [],
   "source": [
    "np.save(\"x19_train.npy\", X_train)\n",
    "np.save(\"x19_test.npy\", X_test)\n",
    "np.save(\"y19_train.npy\", y_train)"
   ]
  },
  {
   "cell_type": "markdown",
   "metadata": {},
   "source": [
    "## Графики"
   ]
  },
  {
   "cell_type": "code",
   "execution_count": 39,
   "metadata": {},
   "outputs": [],
   "source": [
    "def plot_features(feat_num, feat_name, bins, X, y):\n",
    "    is_spam_data = [feat[feat_num] for feat, label in zip(X, y) if label == True]\n",
    "    not_spam_data = [feat[feat_num] for feat, label in zip(X, y) if label == False]\n",
    "    plt.hist(is_spam_data, bins=bins, color='red', density=True, alpha=0.7, label='spam')\n",
    "    plt.hist(not_spam_data, bins=bins, color='blue', density=True, alpha=0.7, label='not_spam')\n",
    "    plt.title(feat_name)\n",
    "    plt.legend()\n",
    "    plt.show()"
   ]
  },
  {
   "cell_type": "code",
   "execution_count": 186,
   "metadata": {},
   "outputs": [
    {
     "data": {
      "image/png": "[encoded data removed]",
      "text/plain": [
       "<Figure size 432x288 with 1 Axes>"
      ]
     },
     "metadata": {
      "needs_background": "light"
     },
     "output_type": "display_data"
    }
   ],
   "source": [
    "plot_features(0, 'NumWords', bins = 20, X=X_train, y=y_train)"
   ]
  },
  {
   "cell_type": "code",
   "execution_count": 38,
   "metadata": {},
   "outputs": [
    {
     "data": {
      "image/png": "[encoded data removed]",
      "text/plain": [
       "<Figure size 432x288 with 1 Axes>"
      ]
     },
     "metadata": {
      "needs_background": "light"
     },
     "output_type": "display_data"
    }
   ],
   "source": [
    "plot_features(1, 'AvgLenWords', bins = 100)"
   ]
  },
  {
   "cell_type": "code",
   "execution_count": 39,
   "metadata": {},
   "outputs": [
    {
     "data": {
      "image/png": "[encoded data removed]",
      "text/plain": [
       "<Figure size 432x288 with 1 Axes>"
      ]
     },
     "metadata": {
      "needs_background": "light"
     },
     "output_type": "display_data"
    }
   ],
   "source": [
    "plot_features(2, 'TitleWordsNum', bins = range(0,300,10))"
   ]
  },
  {
   "cell_type": "code",
   "execution_count": 40,
   "metadata": {},
   "outputs": [
    {
     "data": {
      "image/png": "[encoded data removed]",
      "text/plain": [
       "<Figure size 432x288 with 1 Axes>"
      ]
     },
     "metadata": {
      "needs_background": "light"
     },
     "output_type": "display_data"
    }
   ],
   "source": [
    "plot_features(3, 'AnchWordsNum', bins = range(0,3000,10))"
   ]
  },
  {
   "cell_type": "code",
   "execution_count": 47,
   "metadata": {},
   "outputs": [
    {
     "data": {
      "image/png": "[encoded data removed]",
      "text/plain": [
       "<Figure size 432x288 with 1 Axes>"
      ]
     },
     "metadata": {
      "needs_background": "light"
     },
     "output_type": "display_data"
    }
   ],
   "source": [
    "plot_features(4, 'CompressLevel', bins = 10)"
   ]
  },
  {
   "cell_type": "code",
   "execution_count": 49,
   "metadata": {},
   "outputs": [
    {
     "data": {
      "image/png": "[encoded data removed]",
      "text/plain": [
       "<Figure size 432x288 with 1 Axes>"
      ]
     },
     "metadata": {
      "needs_background": "light"
     },
     "output_type": "display_data"
    }
   ],
   "source": [
    "plot_features(5, 'ScriptRatio', bins = 10)"
   ]
  },
  {
   "cell_type": "code",
   "execution_count": 21,
   "metadata": {},
   "outputs": [
    {
     "data": {
      "image/png": "[encoded data removed]",
      "text/plain": [
       "<Figure size 432x288 with 1 Axes>"
      ]
     },
     "metadata": {
      "needs_background": "light"
     },
     "output_type": "display_data"
    }
   ],
   "source": [
    "plot_features(6, 'KeywordsSumIDF', 10, X_train, y_train)"
   ]
  },
  {
   "cell_type": "code",
   "execution_count": 20,
   "metadata": {},
   "outputs": [
    {
     "data": {
      "image/png": "[encoded data removed]",
      "text/plain": [
       "<Figure size 432x288 with 1 Axes>"
      ]
     },
     "metadata": {
      "needs_background": "light"
     },
     "output_type": "display_data"
    }
   ],
   "source": [
    "plot_features(7, 'SelectSumIDF', bins = 10)"
   ]
  },
  {
   "cell_type": "code",
   "execution_count": 21,
   "metadata": {},
   "outputs": [
    {
     "data": {
      "image/png": "[encoded data removed]",
      "text/plain": [
       "<Figure size 432x288 with 1 Axes>"
      ]
     },
     "metadata": {
      "needs_background": "light"
     },
     "output_type": "display_data"
    }
   ],
   "source": [
    "plot_features(8, 'TitleSumIDF', bins = 10)"
   ]
  },
  {
   "cell_type": "code",
   "execution_count": 22,
   "metadata": {},
   "outputs": [
    {
     "data": {
      "image/png": "[encoded data removed]",
      "text/plain": [
       "<Figure size 432x288 with 1 Axes>"
      ]
     },
     "metadata": {
      "needs_background": "light"
     },
     "output_type": "display_data"
    }
   ],
   "source": [
    "plot_features(9, 'SVM', bins = 10)"
   ]
  },
  {
   "cell_type": "code",
   "execution_count": 153,
   "metadata": {},
   "outputs": [
    {
     "data": {
      "image/png": "[encoded data removed]",
      "text/plain": [
       "<Figure size 432x288 with 1 Axes>"
      ]
     },
     "metadata": {
      "needs_background": "light"
     },
     "output_type": "display_data"
    }
   ],
   "source": [
    "plot_features(0, 'Capital Letters Ratio', bins = 20, X=X_train, y=y_train)"
   ]
  },
  {
   "cell_type": "code",
   "execution_count": 154,
   "metadata": {},
   "outputs": [
    {
     "data": {
      "image/png": "[encoded data removed]",
      "text/plain": [
       "<Figure size 432x288 with 1 Axes>"
      ]
     },
     "metadata": {
      "needs_background": "light"
     },
     "output_type": "display_data"
    }
   ],
   "source": [
    "plot_features(1, 'Domain Levels', bins = 20, X=X_train, y=y_train)"
   ]
  },
  {
   "cell_type": "code",
   "execution_count": 155,
   "metadata": {},
   "outputs": [
    {
     "data": {
      "image/png": "[encoded data removed]",
      "text/plain": [
       "<Figure size 432x288 with 1 Axes>"
      ]
     },
     "metadata": {
      "needs_background": "light"
     },
     "output_type": "display_data"
    }
   ],
   "source": [
    "plot_features(2, 'Has www', bins = 20, X=X_train, y=y_train)"
   ]
  },
  {
   "cell_type": "code",
   "execution_count": 156,
   "metadata": {},
   "outputs": [
    {
     "data": {
      "image/png": "[encoded data removed]",
      "text/plain": [
       "<Figure size 432x288 with 1 Axes>"
      ]
     },
     "metadata": {
      "needs_background": "light"
     },
     "output_type": "display_data"
    }
   ],
   "source": [
    "plot_features(3, 'Has narod', bins = 20, X=X_train, y=y_train)"
   ]
  },
  {
   "cell_type": "code",
   "execution_count": 157,
   "metadata": {},
   "outputs": [
    {
     "data": {
      "image/png": "[encoded data removed]",
      "text/plain": [
       "<Figure size 432x288 with 1 Axes>"
      ]
     },
     "metadata": {
      "needs_background": "light"
     },
     "output_type": "display_data"
    }
   ],
   "source": [
    "plot_features(4, 'Domain Len', bins = 20, X=X_train, y=y_train)"
   ]
  },
  {
   "cell_type": "code",
   "execution_count": 164,
   "metadata": {},
   "outputs": [
    {
     "data": {
      "image/png": "[encoded data removed]",
      "text/plain": [
       "<Figure size 432x288 with 1 Axes>"
      ]
     },
     "metadata": {
      "needs_background": "light"
     },
     "output_type": "display_data"
    }
   ],
   "source": [
    "plot_features(5, 'Path len', bins = 50, X=X_train, y=y_train)"
   ]
  },
  {
   "cell_type": "code",
   "execution_count": 159,
   "metadata": {},
   "outputs": [
    {
     "data": {
      "image/png": "[encoded data removed]",
      "text/plain": [
       "<Figure size 432x288 with 1 Axes>"
      ]
     },
     "metadata": {
      "needs_background": "light"
     },
     "output_type": "display_data"
    }
   ],
   "source": [
    "plot_features(6, 'Digit Percent', bins = 20, X=X_train, y=y_train)"
   ]
  },
  {
   "cell_type": "code",
   "execution_count": 160,
   "metadata": {},
   "outputs": [
    {
     "data": {
      "image/png": "[encoded data removed]",
      "text/plain": [
       "<Figure size 432x288 with 1 Axes>"
      ]
     },
     "metadata": {
      "needs_background": "light"
     },
     "output_type": "display_data"
    }
   ],
   "source": [
    "plot_features(7, 'Separates netlock', bins = 20, X=X_train, y=y_train)"
   ]
  },
  {
   "cell_type": "code",
   "execution_count": 161,
   "metadata": {},
   "outputs": [
    {
     "data": {
      "image/png": "[encoded data removed]",
      "text/plain": [
       "<Figure size 432x288 with 1 Axes>"
      ]
     },
     "metadata": {
      "needs_background": "light"
     },
     "output_type": "display_data"
    }
   ],
   "source": [
    "plot_features(8, 'Separates path', bins = 20, X=X_train, y=y_train)"
   ]
  },
  {
   "cell_type": "code",
   "execution_count": 162,
   "metadata": {},
   "outputs": [
    {
     "data": {
      "image/png": "[encoded data removed]",
      "text/plain": [
       "<Figure size 432x288 with 1 Axes>"
      ]
     },
     "metadata": {
      "needs_background": "light"
     },
     "output_type": "display_data"
    }
   ],
   "source": [
    "plot_features(9, 'Spam entries', bins = 20, X=X_train, y=y_train)"
   ]
  },
  {
   "cell_type": "code",
   "execution_count": 163,
   "metadata": {},
   "outputs": [
    {
     "data": {
      "image/png": "[encoded data removed]",
      "text/plain": [
       "<Figure size 432x288 with 1 Axes>"
      ]
     },
     "metadata": {
      "needs_background": "light"
     },
     "output_type": "display_data"
    }
   ],
   "source": [
    "plot_features(10, 'Domain coes', bins = 20, X=X_train, y=y_train)"
   ]
  },
  {
   "cell_type": "code",
   "execution_count": 40,
   "metadata": {},
   "outputs": [
    {
     "data": {
      "image/png": "[encoded data removed]",
      "text/plain": [
       "<Figure size 432x288 with 1 Axes>"
      ]
     },
     "metadata": {
      "needs_background": "light"
     },
     "output_type": "display_data"
    }
   ],
   "source": [
    "plot_features(19, 'Ngram entropy', bins = 20, X=X_train, y=y_train)"
   ]
  },
  {
   "cell_type": "code",
   "execution_count": 41,
   "metadata": {},
   "outputs": [
    {
     "data": {
      "image/png": "[encoded data removed]",
      "text/plain": [
       "<Figure size 432x288 with 1 Axes>"
      ]
     },
     "metadata": {
      "needs_background": "light"
     },
     "output_type": "display_data"
    }
   ],
   "source": [
    "plot_features(20, 'Count word entropu', bins = 20, X=X_train, y=y_train)"
   ]
  },
  {
   "cell_type": "code",
   "execution_count": null,
   "metadata": {},
   "outputs": [],
   "source": [
    "plot_features(0, '---', bins = 20, X=X_train, y=y_train)\n",
    "\n",
    "            [get_capital_letters_percent(html_data),\n",
    "            get_netloc_size(url.netloc),\n",
    "            get_has_www(url.netloc),\n",
    "            get_is_narod(url.netloc),\n",
    "            get_netloc_len(url.netloc),\n",
    "            get_path_len(url.path),\n",
    "            digit_percent_netloc(url.netloc),\n",
    "            get_sep_netloc(url.netloc),\n",
    "            get_sep_path(url.path),\n",
    "            get_spam_entries(str_url),\n",
    "            get_domain_coef(url.netloc)]"
   ]
  },
  {
   "cell_type": "markdown",
   "metadata": {},
   "source": [
    "## Классификация"
   ]
  },
  {
   "cell_type": "code",
   "execution_count": 18,
   "metadata": {},
   "outputs": [],
   "source": [
    "X_train = np.load(\"x21_train.npy\")\n",
    "y_train = np.load(\"y21_train.npy\")\n",
    "X_test = np.load(\"x21_test.npy\")\n",
    "\n",
    "scaler = StandardScaler()\n",
    "scaler.fit(X_train)\n",
    "X_train = scaler.transform(X_train)\n",
    "X_test = scaler.transform(X_test)"
   ]
  },
  {
   "cell_type": "code",
   "execution_count": 19,
   "metadata": {},
   "outputs": [],
   "source": [
    "class BoostWrapper(ClassifierMixin, BaseEstimator):\n",
    "    def __init__(self, param, step, eps):\n",
    "        self.param = param\n",
    "        self.step = step\n",
    "        self.eps = eps\n",
    "    \n",
    "    def fit(self, X, y):\n",
    "        D_train = xgb.DMatrix(X, label=y)\n",
    "        self.classes_ = unique_labels(y)\n",
    "        self.X_ = X\n",
    "        self.y_ = y\n",
    "        self.model = xgb.train(self.param, D_train, self.step)\n",
    "        return self.model\n",
    "        \n",
    "    def predict(self, X):\n",
    "        D_test = xgb.DMatrix(X)\n",
    "        priors = self.model.predict(D_test)\n",
    "        return np.where(priors < eps, 0, 1)\n",
    "\n",
    "    def predict_proba(self, X):\n",
    "        D_test = xgb.DMatrix(X)\n",
    "        priors = self.model.predict(D_test)\n",
    "        return np.where(priors < self.eps, 0, 1)\n",
    "\n",
    "    def decision_function(self, X):\n",
    "        return self.predict_proba(X)"
   ]
  },
  {
   "cell_type": "code",
   "execution_count": 50,
   "metadata": {
    "scrolled": true
   },
   "outputs": [
    {
     "data": {
      "application/vnd.jupyter.widget-view+json": {
       "model_id": "07c9f878e0924ca7a6d99a7bba9a32fe",
       "version_major": 2,
       "version_minor": 0
      },
      "text/plain": [
       "HBox(children=(HTML(value=''), FloatProgress(value=1.0, bar_style='info', layout=Layout(width='20px'), max=1.0…"
      ]
     },
     "metadata": {},
     "output_type": "display_data"
    },
    {
     "name": "stdout",
     "output_type": "stream",
     "text": [
      "400, 19 - f1: 0.9610802568657517\n",
      "400, 30 - f1: 0.9606460637662987\n",
      "400, 40 - f1: 0.9599368198937571\n",
      "400, 50 - f1: 0.960933797402144\n",
      "\n"
     ]
    },
    {
     "data": {
      "text/plain": [
       "[[0.9610802568657517, 400, 19],\n",
       " [0.9606460637662987, 400, 30],\n",
       " [0.9599368198937571, 400, 40]]"
      ]
     },
     "execution_count": 50,
     "metadata": {},
     "output_type": "execute_result"
    }
   ],
   "source": [
    "skf = StratifiedKFold(n_splits=3)\n",
    "# max_depth = np.arange(2, 29, 2)\n",
    "# epss = np.linspace(0.1, 1, 8)\n",
    "n_estimators = [400]\n",
    "\n",
    "max_depth = [19, 30, 40, 50] #np.arange(19, 23, 1)\n",
    "# epss = np.linspace(0.3, 0.7, 2)\n",
    "\n",
    "total_scores = []\n",
    "for n_est, md in tqdm(itertools.product(n_estimators, max_depth)):\n",
    "    scores = []\n",
    "    for train_index, test_index in skf.split(X_train, y_train):\n",
    "        X_val_train, X_val_test = X_train[train_index], X_train[test_index]\n",
    "        y_val_train, y_val_test = y_train[train_index], y_train[test_index]\n",
    "\n",
    "        model = RandomForestClassifier(n_estimators=n_est, max_depth=md, n_jobs=-1)\n",
    "        model.fit(X_val_train, y_val_train)\n",
    "        y_pred = model.predict(X_val_test)\n",
    "        \n",
    "        #preds = model.predict_proba(X_val_test)\n",
    "        #y_pred = np.where(preds[:, 1] < best_thres, 0, 1)\n",
    "\n",
    "        scores.append( f1_score(y_pred, y_val_test, average='weighted') )\n",
    "\n",
    "    print('{}, {} - f1: {}'.format(n_est, md, np.mean(scores)))\n",
    "    total_scores.append( [np.mean(scores), n_est, md] )\n",
    "\n",
    "sorted(total_scores, reverse=True)\n",
    "total_scores[:3]"
   ]
  },
  {
   "cell_type": "code",
   "execution_count": 214,
   "metadata": {},
   "outputs": [
    {
     "data": {
      "text/plain": [
       "array([  0.96122625, 400.        ,  18.        ])"
      ]
     },
     "execution_count": 214,
     "metadata": {},
     "output_type": "execute_result"
    }
   ],
   "source": [
    "total_scores = np.array(total_scores)\n",
    "total_scores[ total_scores.argmax(axis=0)[0] ]"
   ]
  },
  {
   "cell_type": "code",
   "execution_count": 205,
   "metadata": {},
   "outputs": [
    {
     "data": {
      "text/plain": [
       "array([  0.96122625, 400.        ,  18.        ])"
      ]
     },
     "execution_count": 205,
     "metadata": {},
     "output_type": "execute_result"
    }
   ],
   "source": [
    "total_scores = np.array(total_scores)\n",
    "total_scores[ total_scores.argmax(axis=0)[0] ]"
   ]
  },
  {
   "cell_type": "markdown",
   "metadata": {},
   "source": [
    "## Важность фичей:"
   ]
  },
  {
   "cell_type": "code",
   "execution_count": 51,
   "metadata": {},
   "outputs": [
    {
     "name": "stdout",
     "output_type": "stream",
     "text": [
      "[0.01278516 0.0066378  0.00611625 0.01022186 0.01350286 0.0162021\n",
      " 0.00546142 0.00770006 0.00713717 0.01937913 0.00555142 0.0554424\n",
      " 0.5499584  0.06651726 0.04508587 0.03167116 0.01432718 0.02196206\n",
      " 0.07760073 0.01555404 0.01118561]\n"
     ]
    },
    {
     "data": {
      "image/png": "[encoded data removed]",
      "text/plain": [
       "<Figure size 432x288 with 1 Axes>"
      ]
     },
     "metadata": {
      "needs_background": "light"
     },
     "output_type": "display_data"
    }
   ],
   "source": [
    "from xgboost import XGBClassifier\n",
    "model = XGBClassifier()\n",
    "model.fit(X_train, y_train)\n",
    "print(model.feature_importances_)\n",
    "\n",
    "plt.bar(range(len(model.feature_importances_)), model.feature_importances_)\n",
    "plt.show()"
   ]
  },
  {
   "cell_type": "code",
   "execution_count": 90,
   "metadata": {},
   "outputs": [],
   "source": [
    "important_features = np.array([0,1,2,3,4,5,6,7,8,9,10])"
   ]
  },
  {
   "cell_type": "code",
   "execution_count": 91,
   "metadata": {},
   "outputs": [
    {
     "data": {
      "text/plain": [
       "((7044, 10), (7044,))"
      ]
     },
     "execution_count": 91,
     "metadata": {},
     "output_type": "execute_result"
    }
   ],
   "source": [
    "X_train0 = X_train[:, important_features]\n",
    "y_train0 = y_train[:]\n",
    "X_text0 = X_test[:, important_features]\n",
    "X_train0.shape, y_train0.shape"
   ]
  },
  {
   "cell_type": "markdown",
   "metadata": {},
   "source": [
    "## Ансамбль"
   ]
  },
  {
   "cell_type": "code",
   "execution_count": 20,
   "metadata": {},
   "outputs": [
    {
     "ename": "NameError",
     "evalue": "name 'best_n_neighbors' is not defined",
     "output_type": "error",
     "traceback": [
      "\u001b[0;31m---------------------------------------------------------------------------\u001b[0m",
      "\u001b[0;31mNameError\u001b[0m                                 Traceback (most recent call last)",
      "\u001b[0;32m<ipython-input-20-4c8275935a48>\u001b[0m in \u001b[0;36m<module>\u001b[0;34m\u001b[0m\n\u001b[1;32m      1\u001b[0m estimators = [\n\u001b[0;32m----> 2\u001b[0;31m     \u001b[0;34m(\u001b[0m\u001b[0;34m'knn'\u001b[0m\u001b[0;34m,\u001b[0m \u001b[0mKNN\u001b[0m\u001b[0;34m(\u001b[0m\u001b[0mn_neighbors\u001b[0m\u001b[0;34m=\u001b[0m\u001b[0mbest_n_neighbors\u001b[0m\u001b[0;34m)\u001b[0m\u001b[0;34m)\u001b[0m\u001b[0;34m,\u001b[0m\u001b[0;34m\u001b[0m\u001b[0;34m\u001b[0m\u001b[0m\n\u001b[0m\u001b[1;32m      3\u001b[0m     \u001b[0;34m(\u001b[0m\u001b[0;34m'svm'\u001b[0m\u001b[0;34m,\u001b[0m \u001b[0mSVC\u001b[0m\u001b[0;34m(\u001b[0m\u001b[0mC\u001b[0m\u001b[0;34m=\u001b[0m\u001b[0mbest_C\u001b[0m\u001b[0;34m)\u001b[0m\u001b[0;34m)\u001b[0m\u001b[0;34m,\u001b[0m\u001b[0;34m\u001b[0m\u001b[0;34m\u001b[0m\u001b[0m\n\u001b[1;32m      4\u001b[0m     \u001b[0;34m(\u001b[0m\u001b[0;34m'bayes'\u001b[0m\u001b[0;34m,\u001b[0m \u001b[0mGaussianNB\u001b[0m\u001b[0;34m(\u001b[0m\u001b[0;34m)\u001b[0m\u001b[0;34m)\u001b[0m\u001b[0;34m,\u001b[0m\u001b[0;34m\u001b[0m\u001b[0;34m\u001b[0m\u001b[0m\n\u001b[1;32m      5\u001b[0m     \u001b[0;34m(\u001b[0m\u001b[0;34m'boost'\u001b[0m\u001b[0;34m,\u001b[0m \u001b[0mBoostWrapper\u001b[0m\u001b[0;34m(\u001b[0m\u001b[0mbest_param\u001b[0m\u001b[0;34m,\u001b[0m \u001b[0mbest_step\u001b[0m\u001b[0;34m,\u001b[0m \u001b[0mbest_eps\u001b[0m\u001b[0;34m)\u001b[0m\u001b[0;34m)\u001b[0m\u001b[0;34m,\u001b[0m\u001b[0;34m\u001b[0m\u001b[0;34m\u001b[0m\u001b[0m\n",
      "\u001b[0;31mNameError\u001b[0m: name 'best_n_neighbors' is not defined"
     ]
    }
   ],
   "source": [
    "estimators = [\n",
    "    ('knn', KNN(n_neighbors=best_n_neighbors)),\n",
    "    ('svm', SVC(C=best_C)),\n",
    "    ('bayes', GaussianNB()),\n",
    "    ('boost', BoostWrapper(best_param, best_step, best_eps)),\n",
    "    ('RF', RandomForestClassifier(n_estimators=best_n_estimators, max_depth=best_max_depth, n_jobs=-1))\n",
    "    ]"
   ]
  },
  {
   "cell_type": "code",
   "execution_count": 217,
   "metadata": {},
   "outputs": [
    {
     "data": {
      "application/vnd.jupyter.widget-view+json": {
       "model_id": "d6b903af9b9a404f8ddba994598e82e0",
       "version_major": 2,
       "version_minor": 0
      },
      "text/plain": [
       "HBox(children=(HTML(value=''), FloatProgress(value=1.0, bar_style='info', layout=Layout(width='20px'), max=1.0…"
      ]
     },
     "metadata": {},
     "output_type": "display_data"
    },
    {
     "name": "stdout",
     "output_type": "stream",
     "text": [
      "\n",
      "enseble - f1: 0.9608001006122918\n"
     ]
    }
   ],
   "source": [
    "skf = StratifiedKFold(n_splits=3)\n",
    "scores = []\n",
    "for train_index, test_index in tqdm( skf.split(X_train, y_train) ):\n",
    "    X_val_train, X_val_test = X_train[train_index], X_train[test_index]\n",
    "    y_val_train, y_val_test = y_train[train_index], y_train[test_index]\n",
    "\n",
    "    model = StackingClassifier(estimators=estimators, final_estimator=LogisticRegression() )\n",
    "    model.fit(X_val_train, y_val_train)\n",
    "\n",
    "    y_pred = model.predict(X_val_test)\n",
    "\n",
    "    scores.append( f1_score(y_pred, y_val_test, average='weighted') )\n",
    "\n",
    "print('enseble - f1: {}'.format(np.mean(scores)))"
   ]
  },
  {
   "cell_type": "code",
   "execution_count": null,
   "metadata": {},
   "outputs": [],
   "source": []
  },
  {
   "cell_type": "code",
   "execution_count": 223,
   "metadata": {},
   "outputs": [
    {
     "data": {
      "text/plain": [
       "0.9583464218552149"
      ]
     },
     "execution_count": 223,
     "metadata": {},
     "output_type": "execute_result"
    }
   ],
   "source": [
    "train_len = int(X_train.shape[0] * 0.7)\n",
    "model = RandomForestClassifier(n_estimators=200, max_depth=22, n_jobs=-1)\n",
    "model.fit(X_train[:train_len], y_train[:train_len])\n",
    "\n",
    "y_pred = model.predict(X_train[train_len:])\n",
    "f1_score(y_pred, y_train[train_len:], average='weighted')"
   ]
  },
  {
   "cell_type": "code",
   "execution_count": 226,
   "metadata": {},
   "outputs": [],
   "source": [
    "y_pred = np.asarray(y_pred)\n",
    "y_test = np.asarray(y_train[train_len:])"
   ]
  },
  {
   "cell_type": "code",
   "execution_count": 228,
   "metadata": {},
   "outputs": [
    {
     "data": {
      "text/plain": [
       "(88,)"
      ]
     },
     "execution_count": 228,
     "metadata": {},
     "output_type": "execute_result"
    }
   ],
   "source": [
    "error_ind = np.arange(len(train_docs[train_len:]))[y_pred != y_test]\n",
    "error_ind.shape"
   ]
  },
  {
   "cell_type": "markdown",
   "metadata": {},
   "source": [
    "# Сохраняем ответ"
   ]
  },
  {
   "cell_type": "code",
   "execution_count": 21,
   "metadata": {},
   "outputs": [],
   "source": [
    "best_n_neighbors = 4\n",
    "best_C = 30\n",
    "best_logreg_C = 10\n",
    "best_param = {\n",
    "    'eta': 0.2285714285714286,\n",
    "    'max_depth': 9,\n",
    "    'objective': 'binary:logistic'\n",
    "}\n",
    "best_step = 100\n",
    "best_eps = 0.6142857142857143\n",
    "best_n_estimators=400\n",
    "best_max_depth=19\n",
    "best_thres = 0.55\n",
    "\n",
    "# best_n_neighbors = 6\n",
    "# best_C = 200\n",
    "# best_logreg_C = 10\n",
    "# best_param = {\n",
    "#     'eta': 0.275,\n",
    "#     'max_depth': 9,\n",
    "#     'objective': 'binary:logistic'\n",
    "# }\n",
    "# best_step = 50\n",
    "# best_eps = 0.48571428571428577\n",
    "# best_n_estimators=400\n",
    "# best_max_depth=18\n",
    "# best_thres = 0.7\n",
    "\n",
    "# estimators = [\n",
    "#     ('knn', KNN(n_neighbors=best_n_neighbors)),\n",
    "#     ('svm', SVC(C=best_C)),\n",
    "#     ('bayes', GaussianNB()),\n",
    "#     ('boost', BoostWrapper(best_param, best_step, best_eps)),\n",
    "#     ('RF', RandomForestClassifier(n_estimators=best_n_estimators, max_depth=best_max_depth, n_jobs=-1) )\n",
    "#     #('log reg', LogisticRegression(C=best_logreg_C))\n",
    "#     ]\n",
    "# model = StackingClassifier(\n",
    "#         estimators=estimators, final_estimator=LogisticRegression(), n_jobs=-1 )\n",
    "# model = StackingClassifier(estimators=estimators, final_estimator=LogisticRegression() )"
   ]
  },
  {
   "cell_type": "code",
   "execution_count": 80,
   "metadata": {},
   "outputs": [],
   "source": [
    "X_train = np.load(\"x21_train.npy\")\n",
    "y_train = np.load(\"y21_train.npy\")\n",
    "X_test = np.load(\"x21_test.npy\")\n",
    "\n",
    "scaler = StandardScaler()\n",
    "scaler.fit(X_train)\n",
    "X_train = scaler.transform(X_train)\n",
    "X_test = scaler.transform(X_test)"
   ]
  },
  {
   "cell_type": "markdown",
   "metadata": {},
   "source": [
    "#### Для ансамбля"
   ]
  },
  {
   "cell_type": "code",
   "execution_count": 81,
   "metadata": {},
   "outputs": [],
   "source": [
    "estimators = [\n",
    "    ('knn', KNN(n_neighbors=best_n_neighbors)),\n",
    "    ('svm', SVC(C=best_C)),\n",
    "    ('bayes', GaussianNB()),\n",
    "    ('boost', BoostWrapper(best_param, best_step, best_eps)),\n",
    "    ('RF', RandomForestClassifier(n_estimators=best_n_estimators, max_depth=best_max_depth, n_jobs=-1) ),\n",
    "    ('log reg', LogisticRegression(C=best_logreg_C))\n",
    "    ]\n",
    "model = StackingClassifier(\n",
    "        estimators=estimators, final_estimator=LogisticRegression(), n_jobs=-1 )"
   ]
  },
  {
   "cell_type": "code",
   "execution_count": 82,
   "metadata": {},
   "outputs": [
    {
     "data": {
      "application/vnd.jupyter.widget-view+json": {
       "model_id": "3458658b388b44c5933ba4033345210f",
       "version_major": 2,
       "version_minor": 0
      },
      "text/plain": [
       "HBox(children=(HTML(value=''), FloatProgress(value=1.0, bar_style='info', layout=Layout(width='20px'), max=1.0…"
      ]
     },
     "metadata": {},
     "output_type": "display_data"
    },
    {
     "name": "stdout",
     "output_type": "stream",
     "text": [
      "\n"
     ]
    },
    {
     "data": {
      "text/plain": [
       "0.9653334798215444"
      ]
     },
     "execution_count": 82,
     "metadata": {},
     "output_type": "execute_result"
    }
   ],
   "source": [
    "# Проверка на валидации\n",
    "\n",
    "skf = StratifiedKFold(n_splits=3)\n",
    "scores = []\n",
    "for train_index, test_index in tqdm( skf.split(X_train, y_train) ):\n",
    "    X_val_train, X_val_test = X_train[train_index], X_train[test_index]\n",
    "    y_val_train, y_val_test = y_train[train_index], y_train[test_index]\n",
    "\n",
    "    model = StackingClassifier(estimators=estimators, final_estimator=LogisticRegression() ) \n",
    "    model.fit(X_val_train, y_val_train)\n",
    "\n",
    "    y_pred = model.predict(X_val_test)\n",
    "\n",
    "    scores.append( f1_score(y_pred, y_val_test, average='weighted') )\n",
    "\n",
    "np.mean(scores)"
   ]
  },
  {
   "cell_type": "code",
   "execution_count": 25,
   "metadata": {},
   "outputs": [
    {
     "data": {
      "application/vnd.jupyter.widget-view+json": {
       "model_id": "1da51751a23543749992ee4436b37019",
       "version_major": 2,
       "version_minor": 0
      },
      "text/plain": [
       "HBox(children=(HTML(value=''), FloatProgress(value=1.0, bar_style='info', layout=Layout(width='20px'), max=1.0…"
      ]
     },
     "metadata": {},
     "output_type": "display_data"
    },
    {
     "name": "stdout",
     "output_type": "stream",
     "text": [
      "\n"
     ]
    },
    {
     "data": {
      "text/plain": [
       "0.9659024039881433"
      ]
     },
     "execution_count": 25,
     "metadata": {},
     "output_type": "execute_result"
    }
   ],
   "source": [
    "# Проверка на валидации\n",
    "\n",
    "skf = StratifiedKFold(n_splits=3)\n",
    "scores = []\n",
    "for train_index, test_index in tqdm( skf.split(X_train, y_train) ):\n",
    "    X_val_train, X_val_test = X_train[train_index], X_train[test_index]\n",
    "    y_val_train, y_val_test = y_train[train_index], y_train[test_index]\n",
    "\n",
    "    model = StackingClassifier(estimators=estimators, final_estimator=LogisticRegression() ) \n",
    "    model.fit(X_val_train, y_val_train)\n",
    "\n",
    "    y_pred = model.predict(X_val_test)\n",
    "\n",
    "    scores.append( f1_score(y_pred, y_val_test, average='weighted') )\n",
    "\n",
    "np.mean(scores)"
   ]
  },
  {
   "cell_type": "code",
   "execution_count": 83,
   "metadata": {},
   "outputs": [
    {
     "data": {
      "application/vnd.jupyter.widget-view+json": {
       "model_id": "9ef91c6c0e264633b527baa5ceaa7773",
       "version_major": 2,
       "version_minor": 0
      },
      "text/plain": [
       "HBox(children=(HTML(value=''), FloatProgress(value=1.0, bar_style='info', layout=Layout(width='20px'), max=1.0…"
      ]
     },
     "metadata": {},
     "output_type": "display_data"
    },
    {
     "name": "stdout",
     "output_type": "stream",
     "text": [
      "\n"
     ]
    },
    {
     "data": {
      "text/plain": [
       "8343"
      ]
     },
     "execution_count": 83,
     "metadata": {},
     "output_type": "execute_result"
    }
   ],
   "source": [
    "model = StackingClassifier(estimators=estimators, final_estimator=LogisticRegression() ) \n",
    "model.fit(X_train, y_train)\n",
    "y_pred = model.predict(X_test)\n",
    "\n",
    "doc_ids = get_doc_ids(TEST_DATA_FILE)\n",
    "total = np.concatenate( (np.asarray(doc_ids)[:, None], np.asarray(y_pred)[:, None]), axis=1 )\n",
    "\n",
    "df = pd.DataFrame(total, columns = ['Id', 'Prediction'])\n",
    "df.to_csv('sybm7.csv', index=False)\n",
    "\n",
    "df.Prediction.sum()"
   ]
  },
  {
   "cell_type": "markdown",
   "metadata": {},
   "source": [
    "#### для RF"
   ]
  },
  {
   "cell_type": "code",
   "execution_count": 211,
   "metadata": {},
   "outputs": [
    {
     "name": "stdout",
     "output_type": "stream",
     "text": [
      "0.9570298276311451\n"
     ]
    }
   ],
   "source": [
    "# Проверка на валидации\n",
    "\n",
    "skf = StratifiedKFold(n_splits=3)\n",
    "\n",
    "for train_index, test_index in skf.split(X_train, y_train):\n",
    "    X_val_train, X_val_test = X_train[train_index], X_train[test_index]\n",
    "    y_val_train, y_val_test = y_train[train_index], y_train[test_index]\n",
    "\n",
    "    model = RandomForestClassifier(n_estimators=best_n_estimators, max_depth=best_max_depth, n_jobs=-1)\n",
    "    model.fit(X_val_train, y_val_train)\n",
    "    \n",
    "    y_pred = model.predict(X_val_test)\n",
    "    #y_pred = model.predict_proba(X_val_test)\n",
    "    #y_pred = np.where(y_pred[:, 1] < best_thres, 0, 1)\n",
    "\n",
    "    scores.append( f1_score(y_pred, y_val_test, average='weighted') )\n",
    "\n",
    "print(np.mean(scores))"
   ]
  },
  {
   "cell_type": "code",
   "execution_count": 213,
   "metadata": {},
   "outputs": [
    {
     "data": {
      "application/vnd.jupyter.widget-view+json": {
       "model_id": "2e2074faab774184b109428c0e230153",
       "version_major": 2,
       "version_minor": 0
      },
      "text/plain": [
       "HBox(children=(HTML(value=''), FloatProgress(value=1.0, bar_style='info', layout=Layout(width='20px'), max=1.0…"
      ]
     },
     "metadata": {},
     "output_type": "display_data"
    },
    {
     "name": "stdout",
     "output_type": "stream",
     "text": [
      "\n"
     ]
    },
    {
     "data": {
      "text/plain": [
       "8347"
      ]
     },
     "execution_count": 213,
     "metadata": {},
     "output_type": "execute_result"
    }
   ],
   "source": [
    "model = RandomForestClassifier(n_estimators=best_n_estimators, max_depth=best_max_depth, n_jobs=-1)\n",
    "model.fit(X_train, y_train)\n",
    "y_pred = model.predict(X_test)\n",
    "#y_pred = model.predict_proba(X_test)\n",
    "#y_pred = np.where(y_pred[:, 1] < best_thres, 0, 1)\n",
    "\n",
    "doc_ids = get_doc_ids(TEST_DATA_FILE)\n",
    "total = np.concatenate( (np.asarray(doc_ids)[:, None], np.asarray(y_pred)[:, None]), axis=1 )\n",
    "\n",
    "df = pd.DataFrame(total, columns = ['Id', 'Prediction'])\n",
    "df.to_csv('sybm5.csv', index=False)\n",
    "\n",
    "df.Prediction.sum()"
   ]
  },
  {
   "cell_type": "code",
   "execution_count": 27,
   "metadata": {},
   "outputs": [
    {
     "data": {
      "application/vnd.jupyter.widget-view+json": {
       "model_id": "c67cfbf49e5448848677a7ac3981639d",
       "version_major": 2,
       "version_minor": 0
      },
      "text/plain": [
       "HBox(children=(HTML(value=''), FloatProgress(value=1.0, bar_style='info', layout=Layout(width='20px'), max=1.0…"
      ]
     },
     "metadata": {},
     "output_type": "display_data"
    },
    {
     "name": "stdout",
     "output_type": "stream",
     "text": [
      "\n"
     ]
    }
   ],
   "source": [
    "docs, marks = get_docs(TEST_DATA_FILE)"
   ]
  },
  {
   "cell_type": "code",
   "execution_count": 84,
   "metadata": {},
   "outputs": [],
   "source": [
    "spam_words = []\n",
    "with open('spam_words.txt') as fin:\n",
    "    spam_words = fin.read().split()"
   ]
  },
  {
   "cell_type": "code",
   "execution_count": 85,
   "metadata": {},
   "outputs": [
    {
     "name": "stdout",
     "output_type": "stream",
     "text": [
      "['ебаться', 'сперма', 'влагалище', 'порно', 'стриптиз', 'порновидео', 'лобок', 'шлюха', 'сиська', 'porno']\n"
     ]
    }
   ],
   "source": [
    "print(spam_words)"
   ]
  },
  {
   "cell_type": "code",
   "execution_count": 86,
   "metadata": {},
   "outputs": [],
   "source": [
    "spam_words = set(spam_words)"
   ]
  },
  {
   "cell_type": "code",
   "execution_count": 87,
   "metadata": {},
   "outputs": [
    {
     "data": {
      "application/vnd.jupyter.widget-view+json": {
       "model_id": "d4921044d91241e9b651052e6bb1a323",
       "version_major": 2,
       "version_minor": 0
      },
      "text/plain": [
       "HBox(children=(HTML(value=''), FloatProgress(value=1.0, bar_style='info', layout=Layout(width='20px'), max=1.0…"
      ]
     },
     "metadata": {},
     "output_type": "display_data"
    },
    {
     "name": "stdout",
     "output_type": "stream",
     "text": [
      "smth wrong\n",
      "smth wrong\n",
      "\n"
     ]
    }
   ],
   "source": [
    "inds = []\n",
    "for i, doc in tqdm(enumerate(docs)):\n",
    "    try:\n",
    "        if len( spam_words & set(html2word( html2text(doc) )) ) > 0:\n",
    "            inds.append(i)\n",
    "    except:\n",
    "        print('smth wrong')"
   ]
  },
  {
   "cell_type": "code",
   "execution_count": 88,
   "metadata": {},
   "outputs": [
    {
     "data": {
      "text/plain": [
       "894"
      ]
     },
     "execution_count": 88,
     "metadata": {},
     "output_type": "execute_result"
    }
   ],
   "source": [
    "len(inds)"
   ]
  },
  {
   "cell_type": "code",
   "execution_count": 89,
   "metadata": {},
   "outputs": [
    {
     "data": {
      "text/plain": [
       "(16039,)"
      ]
     },
     "execution_count": 89,
     "metadata": {},
     "output_type": "execute_result"
    }
   ],
   "source": [
    "y_pred.shape"
   ]
  },
  {
   "cell_type": "code",
   "execution_count": 90,
   "metadata": {},
   "outputs": [
    {
     "data": {
      "text/plain": [
       "137"
      ]
     },
     "execution_count": 90,
     "metadata": {},
     "output_type": "execute_result"
    }
   ],
   "source": [
    "(y_pred[inds] == 0).sum()"
   ]
  },
  {
   "cell_type": "code",
   "execution_count": 91,
   "metadata": {},
   "outputs": [
    {
     "data": {
      "text/plain": [
       "[7, 9, 85, 100, 104, 108, 150, 164, 192, 200]"
      ]
     },
     "execution_count": 91,
     "metadata": {},
     "output_type": "execute_result"
    }
   ],
   "source": [
    "inds[:10]"
   ]
  },
  {
   "cell_type": "code",
   "execution_count": 92,
   "metadata": {},
   "outputs": [],
   "source": [
    "inds = np.array(inds)\n",
    "normal_inds = inds[ y_pred[inds] == 0 ]"
   ]
  },
  {
   "cell_type": "code",
   "execution_count": 93,
   "metadata": {},
   "outputs": [
    {
     "data": {
      "text/plain": [
       "array([  7, 100, 200, 238, 254, 413, 512, 619, 827, 877])"
      ]
     },
     "execution_count": 93,
     "metadata": {},
     "output_type": "execute_result"
    }
   ],
   "source": [
    "normal_inds[:10]"
   ]
  },
  {
   "cell_type": "code",
   "execution_count": 94,
   "metadata": {},
   "outputs": [
    {
     "data": {
      "text/plain": [
       "'Частное фото голой казашки » Пилотки девушек, частое фото, женские пилотки, пьяные девушки, gjhyj Загрузка. Пожалуйста, подождите... <!-- var dle_root = \\'/\\'; var dle_admin = \\'\\'; var dle_login_hash = \\'\\'; var dle_group = 5; var dle_skin = \\'Default2\\'; var dle_wysiwyg = \\'no\\'; var quick_wysiwyg = \\'0\\'; var dle_act_lang = [\"Да\", \"Нет\", \"Ввод\", \"Отмена\"]; var menu_short = \\'Быстрое редактирование\\'; var menu_full = \\'Полное редактирование\\'; var menu_profile = \\'Просмотр профиля\\'; var menu_send = \\'Отправить сообщение\\'; var menu_uedit = \\'Админцентр\\'; var dle_info = \\'Информация\\'; var dle_confirm = \\'Подтверждение\\'; var dle_prompt = \\'Ввод информации\\'; var dle_req_field = \\'Заполните все необходимые поля\\'; var dle_del_agree = \\'Вы действительно хотите удалить? Данное действие невозможно будет отменить\\'; var dle_del_news = \\'Удалить новость\\'; var allow_dle_delete_news = false; var dle_search_delay = false; var dle_search_value = \\'\\'; $(function(){ FastSearch(); });//--> <!-- hs.graphicsDir = \\'/engine/classes/highslide/graphics/\\'; hs.outlineType = \\'rounded-white\\'; hs.numberOfImagesToPreload = 0; hs.showCredits = false; hs.lang = { loadingText : \\'Загрузка...\\', playTitle : \\'Просмотр слайдшоу (пробел)\\', pauseTitle: \\'Пауза\\', previousTitle : \\'Предыдущее изображение\\', nextTitle : \\'Следующее изображение\\', moveTitle : \\'Переместить\\', closeTitle : \\'Закрыть (Esc)\\', fullExpandTitle : \\'Развернуть до полного размера\\', restoreTitle : \\'Кликните для закрытия картинки, нажмите и удерживайте для перемещения\\', focusTitle : \\'Сфокусировать\\', loadingTitle : \\'Нажмите для отмены\\' }; hs.align = \\'center\\'; hs.transitions = [\\'expand\\', \\'crossfade\\']; hs.addSlideshow({ interval: 4000, repeat: false, useControls: true, fixedControls: \\'fit\\', overlayOptions: { opacity: .75, position: \\'bottom center\\', hideOnMouseOut: true } }); //--> Обратная связь \\n\\n\\n\\n\\n\\nteasernet_blockid = 222859; teasernet_padid = 85488; Частное фото голой казашки Частное фотоальбомы девушек \\n\\n\\n\\n\\n\\n\\n\\n\\n\\n\\n\\n\\n\\n\\n\\n\\n\\n\\n\\n\\n\\n\\n\\nГолая казашка фотографируется в домашней обстановке. \\nДругие эротические фото: Фото голой казашки Худая брюнетка в домашней обстановке Частное фото голой тетечки Частное проно фото голой жены Потерянный фото аппарат \\nДобавлено: 22-08-2010, 19:59 | Автор: Scumtron | Комментарии 3 | Просмотров: 26155 | Вернуться на главную \\n\\n51 1 2 3 4 5 (голосов: 9) teasernet_blockid = 222860; teasernet_padid = 85488; Комментарий #1 написал: Виталя | \\xa0 3 февраля 2011 12:37 \\xa0 | \\xa0 Зарегистрирован: -- \\xa0 | \\xa0 ICQ: -- \\xa0 | ЦИТИРОВАТЬ \\n\\n\\n\\nГруппа: Гости \\n\\nПубликаций: 0 \\n\\nКомментариев: 0 Ты просто красавица!!! Комментарий #2 написал: platan | \\xa0 23 марта 2011 12:51 \\xa0 | \\xa0 Зарегистрирован: 11.03.2011 \\xa0 | \\xa0 ICQ: -- \\xa0 | ЦИТИРОВАТЬ \\n\\n\\n\\nГруппа: Посетители \\n\\nПубликаций: 0 \\n\\nКомментариев: 7 хороша! \\n\\nа вот альбом моей голой жены в разных позах Комментарий #3 написал: platan | \\xa0 23 марта 2011 12:51 \\xa0 | \\xa0 Зарегистрирован: 11.03.2011 \\xa0 | \\xa0 ICQ: -- \\xa0 | ЦИТИРОВАТЬ \\n\\n\\n\\nГруппа: Посетители \\n\\nПубликаций: 0 \\n\\nКомментариев: 7 голая жена отсасывает мой пенис Добавление комментария Ваше Имя: Ваш E-Mail: <!-- var text_enter_url = \"Введите полный URL ссылки\"; var text_enter_size = \"Введите размеры флэш ролика (ширина, высота)\"; var text_enter_flash = \"Введите ссылку на флэш ролик\"; var text_enter_page = \"Введите номер страницы\"; var text_enter_url_name = \"Введите название сайта\"; var text_enter_page_name = \"Введите описание ссылки\"; var text_enter_image = \"Введите полный URL изображения\"; var text_enter_email = \"Введите e-mail адрес\"; var text_code = \"Использование: [CODE] Здесь Ваш код.. [/CODE]\"; var text_quote = \"Использование: [QUOTE] Здесь Ваша Цитата.. [/QUOTE]\"; var error_no_url = \"Вы должны ввести URL\"; var error_no_title = \"Вы должны ввести название\"; var error_no_email = \"Вы должны ввести e-mail адрес\"; var prompt_start = \"Введите текст для форматирования\"; var img_title = \"Введите по какому краю выравнивать картинку (left, center, right)\"; var email_title = \"Введите описание ссылки\"; var text_pages = \"Страница\"; var image_align = \"center\"; var bb_t_emo = \"Вставка смайликов\"; var bb_t_col = \"Цвет:\"; var selField = \"comments\"; var fombj = document.getElementById( \\'dle-comments-form\\' ); function image_upload() { window.open(\\'http://pilotki-vip.ru/engine/images.php?area=\\' + selField + \\'&add_id=\\', \\'_Addimage\\', \\'toolbar=0,location=0,status=0, left=0, top=0, menubar=0,scrollbars=yes,resizable=0,width=640,height=550\\'); } --> \\n\\n<!-- $(function(){ $(\\'#dle-comments-form\\').submit(function() { doAddComments(); return false; }); }); function reload () { var rndval = new Date().getTime(); document.getElementById(\\'dle-captcha\\').innerHTML = \\'<img src=\"engine/modules/antibot.php?rndval=\\' + rndval + \\'\" border=\"0\" width=\"120\" height=\"50\" alt=\"\" /><br /><a onclick=\"reload(); return false;\" href=\"#\">обновить, если не виден код</a>\\'; }; //--> Навигация Главная Азиатки Блондинки Большие сиськи Брюнетки В чулках и колготках Женщины в возрасте Лесбиянки Мокрые Молоденькие Подсмотренное Порно видео Порно фото Пилотки Про это 18+ Пьяные девушки Секс Вечеринки Толстушки Частное фотоальбомы девушек Разное Рекламодателям Интересное в сети teasernet_blockid = 222789; teasernet_padid = 85488; Пикантное Архив новостей Апрель 2011 (5) \\n\\nМарт 2011 (155) \\n\\nФевраль 2011 (140) \\n\\nЯнварь 2011 (122) \\n\\nДекабрь 2010 (243) \\n\\nНоябрь 2010 (90) \\n\\nОктябрь 2010 (197) \\n\\nСентябрь 2010 (165) \\n\\nАвгуст 2010 (125) \\n\\n\\n\\nПоказать / скрыть весь архив Вход Логин Пароль Зарегиться! \\nЗабыли пароль? О сайте Pilotki-vip.ru - это эротический сайт с ежедневным обновлением. На сайте вы сможете - Cмотреть эротику онлайн , домашние веб камер онлайн, Частное видео с Мобильных , а так же найти фото голых девушек, любительский секс скачать, по мимо этого женщины в возрасте, пилотки девушек и фото клубничка. Горяченькое ХХХ teasernet_blockid = 222858; teasernet_padid = 85488; Секс с молоденькими Самые лучшие новости » Юное чудо \\n\\n» На пляже \\n\\n» На бухалась и показала \\n\\n» Юный парень \\n\\n» Тугой анал \\n\\n» Попка лицом \\n\\n» Прогулка по лесу \\n\\n» Покушала свои трусики \\n\\n» Примерила новую пижаму \\n\\n» Заработалась на работе \\n\\nСтатистика <!-- document.write(\"<a href=\\'http://www.liveinternet.ru/click\\' \"+ \"target=_blank><img src=\\'//counter.yadro.ru/hit?t16.12;r\"+ escape(document.referrer)+((typeof(screen)==\"undefined\")?\"\": \";s\"+screen.width+\"*\"+screen.height+\"*\"+(screen.colorDepth? screen.colorDepth:screen.pixelDepth))+\";u\"+escape(document.URL)+ \";\"+Math.random()+ \"\\' alt=\\'\\' title=\\'LiveInternet: показано число просмотров за 24\"+ \" часа, посетителей за 24 часа и за сегодня\\' \"+ \"style=\\'border: none;\\' width=\\'88\\' height=\\'31\\'></a>\") //--> © 2010 Pilotki-vip.ru - Просматривая данный сайт Вы утверждаете, что вам не менее 18 лет! \\nПредупреждение/Disclaimer Карта сайта'"
      ]
     },
     "execution_count": 94,
     "metadata": {},
     "output_type": "execute_result"
    }
   ],
   "source": [
    "html2text( docs[normal_inds[0]] )"
   ]
  },
  {
   "cell_type": "code",
   "execution_count": null,
   "metadata": {},
   "outputs": [],
   "source": [
    "html2text( docs[normal_inds[1]] )"
   ]
  },
  {
   "cell_type": "code",
   "execution_count": 102,
   "metadata": {},
   "outputs": [
    {
     "data": {
      "text/plain": [
       "(16039,)"
      ]
     },
     "execution_count": 102,
     "metadata": {},
     "output_type": "execute_result"
    }
   ],
   "source": [
    "y_pred.shape"
   ]
  },
  {
   "cell_type": "code",
   "execution_count": 103,
   "metadata": {},
   "outputs": [
    {
     "data": {
      "text/plain": [
       "(894,)"
      ]
     },
     "execution_count": 103,
     "metadata": {},
     "output_type": "execute_result"
    }
   ],
   "source": [
    "inds.shape"
   ]
  },
  {
   "cell_type": "code",
   "execution_count": 104,
   "metadata": {},
   "outputs": [
    {
     "data": {
      "text/plain": [
       "894"
      ]
     },
     "execution_count": 104,
     "metadata": {},
     "output_type": "execute_result"
    }
   ],
   "source": [
    "y_pred[inds].sum()"
   ]
  },
  {
   "cell_type": "code",
   "execution_count": 105,
   "metadata": {},
   "outputs": [],
   "source": [
    "y_pred[inds] = 1"
   ]
  },
  {
   "cell_type": "code",
   "execution_count": 106,
   "metadata": {},
   "outputs": [
    {
     "data": {
      "text/plain": [
       "894"
      ]
     },
     "execution_count": 106,
     "metadata": {},
     "output_type": "execute_result"
    }
   ],
   "source": [
    "y_pred[inds].sum()"
   ]
  },
  {
   "cell_type": "code",
   "execution_count": 107,
   "metadata": {},
   "outputs": [
    {
     "data": {
      "text/plain": [
       "8480"
      ]
     },
     "execution_count": 107,
     "metadata": {},
     "output_type": "execute_result"
    }
   ],
   "source": [
    "y_pred.sum()"
   ]
  },
  {
   "cell_type": "code",
   "execution_count": 108,
   "metadata": {},
   "outputs": [
    {
     "data": {
      "application/vnd.jupyter.widget-view+json": {
       "model_id": "0d82c2cbdf6b446d8ba785999805d015",
       "version_major": 2,
       "version_minor": 0
      },
      "text/plain": [
       "HBox(children=(HTML(value=''), FloatProgress(value=1.0, bar_style='info', layout=Layout(width='20px'), max=1.0…"
      ]
     },
     "metadata": {},
     "output_type": "display_data"
    },
    {
     "name": "stdout",
     "output_type": "stream",
     "text": [
      "\n"
     ]
    },
    {
     "data": {
      "text/plain": [
       "8480"
      ]
     },
     "execution_count": 108,
     "metadata": {},
     "output_type": "execute_result"
    }
   ],
   "source": [
    "doc_ids = get_doc_ids(TEST_DATA_FILE)\n",
    "total = np.concatenate( (np.asarray(doc_ids)[:, None], np.asarray(y_pred)[:, None]), axis=1 )\n",
    "\n",
    "df = pd.DataFrame(total, columns = ['Id', 'Prediction'])\n",
    "df.to_csv('sybm10.csv', index=False)\n",
    "\n",
    "df.Prediction.sum()"
   ]
  },
  {
   "cell_type": "markdown",
   "metadata": {},
   "source": [
    "## Мусорка "
   ]
  },
  {
   "cell_type": "code",
   "execution_count": null,
   "metadata": {},
   "outputs": [],
   "source": [
    "# %%time\n",
    "\n",
    "\n",
    "# # with open('my_submission.csv' , 'wt') as fout:\n",
    "# #     writer = csv.writer(fout)\n",
    "# #     writer.writerow(['Id','Prediction'])\n",
    "# #     for i, doc_id in tqdm(enumerate(doc_ids)):\n",
    "# #         writer.writerow([doc_id, y_pred[i]])"
   ]
  },
  {
   "cell_type": "code",
   "execution_count": null,
   "metadata": {},
   "outputs": [],
   "source": [
    "# class Classifier:\n",
    "    \n",
    "#     def __init__(self):\n",
    "        \n",
    "#         self.model = SVC(c=1.0)\n",
    "#         \"\"\"\n",
    "#         self.model = xgb.XGBClassifier()\n",
    "#         \"\"\"\n",
    "#         \"\"\"\n",
    "#         self.model = GaussianNB()\n",
    "#         \"\"\"\n",
    "        \n",
    "#     def predict(self, X_test):\n",
    "#         \"\"\"\n",
    "#         D_test = xgb.DMatrix(X_test, label=Y_test)\n",
    "#         preds = self.model.predict(D_test)\n",
    "#         best_preds = np.asarray([np.argmax(line) for line in preds])\n",
    "#         return best_preds\n",
    "#         \"\"\"\n",
    "#         \"\"\"\n",
    "#         return self.model.predict(X_test)\n",
    "#         \"\"\"\n",
    "#         return self.model.predict(X_test)\n",
    "    \n",
    "#     def train(self, X_train, y_train):         \n",
    "#         \"\"\"\n",
    "#         D_train = xgb.DMatrix(X_train, label=y_train)\n",
    "#         param = {\n",
    "#             'eta': 0.3, \n",
    "#             'max_depth': 3,  \n",
    "#             # 'objective': 'multi:softprob',  \n",
    "#             'num_class': 2\n",
    "#         } \n",
    "#         steps = 20  # The number of training iterations\n",
    "#         self.model = xgb.train(param, D_train, steps)\n",
    "#         \"\"\"\n",
    "#         \"\"\"\n",
    "#         self.model.fit(X_train, y_train)\n",
    "#         \"\"\"\n",
    "        \n",
    "#         self.model.fit(X_train, y_train)"
   ]
  },
  {
   "cell_type": "code",
   "execution_count": null,
   "metadata": {},
   "outputs": [],
   "source": [
    "# def calc_features_multiprocess(docs):\n",
    "    \n",
    "#     def process_page_wrapper(i):\n",
    "#         while not queue.empty():\n",
    "#             ind = queue.get()\n",
    "#             features_dict[i].append( (calc_features_worker(docs[]), target[ind]) )\n",
    "\n",
    "#             with lock:\n",
    "#                 pbar.update(1)\n",
    "    \n",
    "    \n",
    "#     queue = Queue()\n",
    "\n",
    "#     for i in range(len(docs)):\n",
    "#         queue.put(i)\n",
    "\n",
    "#     processes=4\n",
    "#     with Pool(processes=processes) as pool, tqdm(total=queue.qsize()) as pbar:\n",
    "#         features_dict = dict()\n",
    "#         for i in range(processes):\n",
    "#             features[i] = []\n",
    "\n",
    "#         lock = pbar.get_lock()\n",
    "#         pool.map(process_page_wrapper, range(pool._processes))\n",
    "\n",
    "#     pool.join()\n",
    "    \n",
    "#     features = []\n",
    "#     labels = []\n",
    "#     for i in range(processes):\n",
    "#         for feat, y in features_dict[i]:\n",
    "#             features.append(feat)\n",
    "#             labels.append(y)\n",
    "\n",
    "\n",
    "# vectorizer = get_vectorizer(docc)\n",
    "# nmf = NMF(n_components=10, max_iter=MAX_ITER, init='random', random_state=0)\n",
    "# vectors = vectorizer.transform(docc)\n",
    "# vectors = nmf.fit_transform(vectors) \n",
    "# marks = np.array(marks)\n",
    "# print( vectors.shape )\n",
    "# print( marks.shape )\n",
    "\n",
    "# from sklearn.metrics import f1_score\n",
    "# for cont in [0.4, 0.5]:\n",
    "#     for nbr in np.arange(30, 51, 5):\n",
    "#         lof = LOF(contamination=cont, n_neighbors=nbr)\n",
    "#         y_pred = np.where( lof.fit_predict(vectors) == -1, 1, 0)\n",
    "#         print('cont: {}, ndr: {} - f1: {}'.format(cont, nbr, f1_score(y_pred, marks)))\n",
    "\n",
    "\n",
    "# from sklearn.model_selection import StratifiedKFold\n",
    "# skf = StratifiedKFold(n_splits=3)\n",
    "\n",
    "# for nu in np.linspace(0.001, 0.5, 20):\n",
    "#     svm = OneClassSVM(nu=nu)\n",
    "    \n",
    "#     scores = []\n",
    "#     for train_index, test_index in skf.split(vectors, marks):\n",
    "#         X_train, X_test = vectors[train_index], vectors[test_index]\n",
    "#         y_train, y_test = marks[train_index], marks[test_index]\n",
    "        \n",
    "#         y_pred = svm.fit_predict(X_train)\n",
    "#         scores.append( f1_score(y_pred, y_test) )\n",
    "    \n",
    "#     print('nu: {} - f1: {}'.format(nu, np.mean(scores)))"
   ]
  }
 ],
 "metadata": {
  "anaconda-cloud": {},
  "kernelspec": {
   "display_name": "Python 3",
   "language": "python",
   "name": "python3"
  },
  "language_info": {
   "codemirror_mode": {
    "name": "ipython",
    "version": 3
   },
   "file_extension": ".py",
   "mimetype": "text/x-python",
   "name": "python",
   "nbconvert_exporter": "python",
   "pygments_lexer": "ipython3",
   "version": "3.8.2"
  },
  "varInspector": {
   "cols": {
    "lenName": 16,
    "lenType": 16,
    "lenVar": 40
   },
   "kernels_config": {
    "python": {
     "delete_cmd_postfix": "",
     "delete_cmd_prefix": "del ",
     "library": "var_list.py",
     "varRefreshCmd": "print(var_dic_list())"
    },
    "r": {
     "delete_cmd_postfix": ") ",
     "delete_cmd_prefix": "rm(",
     "library": "var_list.r",
     "varRefreshCmd": "cat(var_dic_list()) "
    }
   },
   "types_to_exclude": [
    "module",
    "function",
    "builtin_function_or_method",
    "instance",
    "_Feature"
   ],
   "window_display": false
  }
 },
 "nbformat": 4,
 "nbformat_minor": 1
}
